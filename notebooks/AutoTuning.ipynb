{
 "cells": [
  {
   "cell_type": "markdown",
   "metadata": {},
   "source": [
    "# Automatic Tuning of SAMPLE hyperparameters\n",
    "In this notebook we will see how to automatically tune the hyperparameters of SAMPLE"
   ]
  },
  {
   "cell_type": "markdown",
   "metadata": {},
   "source": [
    "## Setup"
   ]
  },
  {
   "cell_type": "markdown",
   "metadata": {},
   "source": [
    "### Libraries\n",
    "Install the `sample` package and its dependencies.\n",
    "The extras will install dependencies for helper functions such as plots"
   ]
  },
  {
   "cell_type": "code",
   "execution_count": null,
   "metadata": {},
   "outputs": [],
   "source": [
    "# import sys\n",
    "# !$sys.executable -m pip install -qU .."
   ]
  },
  {
   "cell_type": "markdown",
   "metadata": {},
   "source": [
    "### Load audio\n",
    "Download the test audio or load your own audio file. In this notebook, you can specify\n",
    "\n",
    "   - a filename: to load the audio from file\n",
    "   - a URL: to download the audio file from the web (only if fname is empty)\n",
    "   - start time and length (in seconds): to cut the audio file"
   ]
  },
  {
   "cell_type": "code",
   "execution_count": null,
   "metadata": {},
   "outputs": [],
   "source": [
    "from matplotlib import pyplot as plt\n",
    "from librosa.display import waveshow, specshow\n",
    "from IPython import display as ipd\n",
    "from sample.ipython import WebAudio\n",
    "import numpy as np\n",
    "import functools\n",
    "import librosa\n",
    "import requests\n",
    "import os\n",
    "\n",
    "@functools.wraps(WebAudio)\n",
    "def play(*args, **kwargs):\n",
    "  ipd.display(WebAudio(*args, **kwargs))\n",
    "\n",
    "def resize(w=12, h=6):\n",
    "  plt.gcf().set_size_inches([w, h])\n",
    "\n",
    "fname = \"/home/marco/Downloads/Cowbell2.wav\" #@param {type: \"string\"}\n",
    "url = \"http://soundbible.com/grab.php?id=2190&type=wav\" #@param {type: \"string\"}\n",
    "start_time = 2.86 #@param {type: \"number\"}\n",
    "time_length = 1.5 #@param {type: \"number\"}\n",
    "\n",
    "if not fname:\n",
    "  _fname = \"_testaudio.wav\"\n",
    "  r = requests.get(url)\n",
    "  with open(_fname, \"wb\") as f:\n",
    "    f.write(r.content)\n",
    "else:\n",
    "  _fname = fname\n",
    "\n",
    "x, fs = librosa.load(_fname, sr=None)\n",
    "\n",
    "i_0 = int(start_time * fs)\n",
    "i_1 = i_0 + int(time_length * fs)\n",
    "\n",
    "x = x[i_0:i_1]\n",
    "\n",
    "if not fname:\n",
    "  os.remove(_fname)\n",
    "\n",
    "waveshow(x, sr=fs, alpha=.5, zorder=100)\n",
    "plt.grid()\n",
    "resize()\n",
    "play(x, rate=fs)"
   ]
  },
  {
   "cell_type": "markdown",
   "metadata": {},
   "source": [
    "## Define optimization problem"
   ]
  },
  {
   "cell_type": "markdown",
   "metadata": {},
   "source": [
    "Define fixed parameters, that will not be tuned by the optimizer"
   ]
  },
  {
   "cell_type": "code",
   "execution_count": null,
   "metadata": {},
   "outputs": [],
   "source": [
    "sample_opt_fixed=dict(\n",
    "  max_n_modes=64,\n",
    "  sinusoidal_model__reverse=True,\n",
    "  sinusoidal_model__safe_sine_len=2,\n",
    "  sinusoidal_model__frequency_bounds=(50, 20e3),\n",
    ")"
   ]
  },
  {
   "cell_type": "markdown",
   "metadata": {},
   "source": [
    "Define the space of parameters to tune"
   ]
  },
  {
   "cell_type": "code",
   "execution_count": null,
   "metadata": {},
   "outputs": [],
   "source": [
    "import skopt.space\n",
    "sample_opt_space = dict(\n",
    "  sinusoidal_model__log_n=skopt.space.Integer(\n",
    "    6, 15, name=\"log2(n)\"),\n",
    "  sinusoidal_model__max_n_sines=skopt.space.Integer(\n",
    "    16, 128, name=\"n sines\"),\n",
    "  sinusoidal_model__peak_threshold=skopt.space.Real(\n",
    "    -120, -30, name=\"peak threshold\"),\n",
    "  sinusoidal_model__min_sine_dur=skopt.space.Real(\n",
    "    0, 0.5, name=\"min duration\"),\n",
    "  sinusoidal_model__overlap=skopt.space.Real(\n",
    "    0, 2/3, name=\"overlap\"),\n",
    ")"
   ]
  },
  {
   "cell_type": "markdown",
   "metadata": {},
   "source": [
    "## Optimize"
   ]
  },
  {
   "cell_type": "code",
   "execution_count": null,
   "metadata": {},
   "outputs": [],
   "source": [
    "from tqdm.notebook import tqdm_notebook\n",
    "import multiprocessing as mp\n",
    "import sample.optimize\n",
    "import warnings\n",
    "\n",
    "\n",
    "n_minimizing_points = 16 #@param {type:\"integer\"}\n",
    "n_initial_points = 128 #@param {type:\"integer\"}\n",
    "n_calls = n_minimizing_points + n_initial_points\n",
    "\n",
    "\n",
    "if \"opt_res\" not in locals():\n",
    "  opt_res = None\n",
    "with mp.Pool(processes=6) as pool:\n",
    "  sample_opt = sample.optimize.SAMPLEOptimizer(\n",
    "    sample_kw=sample_opt_fixed,\n",
    "    loss_kw=dict(pool=pool),\n",
    "    **sample_opt_space,\n",
    "  )\n",
    "  tqdm_cbk = sample.optimize.TqdmCallback(\n",
    "    sample_opt=sample_opt,\n",
    "    n_calls=n_calls,\n",
    "    n_initial_points=n_initial_points,\n",
    "    tqdm_fn=tqdm_notebook,\n",
    "  )\n",
    "  with warnings.catch_warnings():\n",
    "    warnings.simplefilter(\"ignore\")\n",
    "    opt_model, opt_res = sample_opt.gp_minimize(\n",
    "      x=x, fs=fs,\n",
    "      n_calls=n_calls,\n",
    "      n_initial_points=n_initial_points,\n",
    "      callback=tqdm_cbk,\n",
    "      initial_point_generator=\"lhs\",\n",
    "      acq_func=\"LCB\",\n",
    "      state=opt_res,\n",
    "      # verbose=True,\n",
    "    )"
   ]
  },
  {
   "cell_type": "code",
   "execution_count": null,
   "metadata": {},
   "outputs": [],
   "source": [
    "opt_model"
   ]
  },
  {
   "cell_type": "markdown",
   "metadata": {},
   "source": [
    "### Listen back"
   ]
  },
  {
   "cell_type": "code",
   "execution_count": null,
   "metadata": {},
   "outputs": [],
   "source": [
    "from librosa import stft, amplitude_to_db\n",
    "x_hat = np.clip(opt_model.predict(np.arange(x.size) / fs, phases=\"random\", seed=1), -1, +1)\n",
    "\n",
    "ax = plt.subplot(211)\n",
    "x_dual = np.array([x, x_hat])\n",
    "for l, xi in zip((\"original\", \"resynthesis\"), x_dual):\n",
    "  play(xi, rate=fs, label=l)\n",
    "  waveshow(xi, sr=fs, alpha=.5, zorder=100, label=l, ax=ax)\n",
    "plt.grid()\n",
    "plt.legend()\n",
    "\n",
    "X_db = amplitude_to_db(np.abs(stft(x)), ref=np.max)\n",
    "ax = plt.subplot(223, sharex=ax)\n",
    "specshow(X_db, ax=ax, sr=fs, x_axis=\"time\", y_axis=\"hz\")\n",
    "ax.set_title(\"original\")\n",
    "\n",
    "X_hat_db = amplitude_to_db(np.abs(stft(x_hat)), ref=np.max)\n",
    "ax = plt.subplot(224, sharex=ax, sharey=ax)\n",
    "specshow(X_hat_db, ax=ax, sr=fs, x_axis=\"time\", y_axis=\"hz\")\n",
    "ax.set_title(\"resynthesis\")\n",
    "ax.set_ylim([0, 20000])\n",
    "\n",
    "resize(12, 12)"
   ]
  },
  {
   "cell_type": "code",
   "execution_count": null,
   "metadata": {},
   "outputs": [],
   "source": [
    "import skopt.plots\n",
    "import itertools\n",
    "\n",
    "axs = skopt.plots.plot_objective(opt_res, levels=16, show_points=False)\n",
    "\n",
    "for ax in itertools.chain.from_iterable(axs):\n",
    "  if ax.get_ylabel() == \"Partial dependence\":\n",
    "    ax.grid(True)\n",
    "    ax.set_ylabel(\"\")\n",
    "# plt.savefig(\"partial_dependence_sample.svg\");"
   ]
  }
 ],
 "metadata": {
  "kernelspec": {
   "display_name": "Python 3",
   "language": "python",
   "name": "python3"
  },
  "language_info": {
   "codemirror_mode": {
    "name": "ipython",
    "version": 3
   },
   "file_extension": ".py",
   "mimetype": "text/x-python",
   "name": "python",
   "nbconvert_exporter": "python",
   "pygments_lexer": "ipython3",
   "version": "3.10.0"
  }
 },
 "nbformat": 4,
 "nbformat_minor": 4
}
