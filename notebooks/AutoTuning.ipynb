{
 "cells": [
  {
   "cell_type": "markdown",
   "metadata": {},
   "source": [
    "# Automatic Tuning of SAMPLE hyperparameters\n",
    "In this notebook we will see how to automatically tune the hyperparameters of SAMPLE"
   ]
  },
  {
   "cell_type": "markdown",
   "metadata": {},
   "source": [
    "## Setup"
   ]
  },
  {
   "cell_type": "markdown",
   "metadata": {},
   "source": [
    "### Libraries\n",
    "Install the `sample` package and its dependencies.\n",
    "The extras will install dependencies for helper functions such as plots"
   ]
  },
  {
   "cell_type": "code",
   "execution_count": null,
   "metadata": {},
   "outputs": [],
   "source": [
    "import sys\n",
    "# !$sys.executable -m pip install -qU ..\n",
    "from sample import __version__\n",
    "from sample.vid import logo\n",
    "print(\"SAMPLE version:\", __version__)\n",
    "logo(size_inches=6)"
   ]
  },
  {
   "cell_type": "markdown",
   "metadata": {},
   "source": [
    "### Load audio\n",
    "Download the test audio or load your own audio file. In this notebook, you can specify\n",
    "\n",
    "   - a filename: to load the audio from file\n",
    "   - a URL: to download the audio file from the web (only if fname is empty)\n",
    "   - start time and length (in seconds): to cut the audio file"
   ]
  },
  {
   "cell_type": "code",
   "execution_count": null,
   "metadata": {},
   "outputs": [],
   "source": [
    "from matplotlib import pyplot as plt\n",
    "from librosa.display import waveshow\n",
    "from IPython import display as ipd\n",
    "import numpy as np\n",
    "import functools\n",
    "import librosa\n",
    "import requests\n",
    "import os\n",
    "\n",
    "@functools.wraps(ipd.Audio)\n",
    "def play(*args, **kwargs):\n",
    "  ipd.display(ipd.Audio(*args, **kwargs))\n",
    "\n",
    "def resize(w=12, h=6):\n",
    "  plt.gcf().set_size_inches([w, h])\n",
    "\n",
    "fname = \"\" #@param {type: \"string\"}\n",
    "url = \"http://soundbible.com/grab.php?id=2190&type=wav\" #@param {type: \"string\"}\n",
    "start_time = 1.298 #@param {type: \"number\"}\n",
    "time_length = 3 #@param {type: \"number\"}\n",
    "\n",
    "if not fname:\n",
    "  _fname = \"_testaudio.wav\"\n",
    "  r = requests.get(url)\n",
    "  with open(_fname, \"wb\") as f:\n",
    "    f.write(r.content)\n",
    "else:\n",
    "  _fname = fname\n",
    "\n",
    "x, fs = librosa.load(_fname, sr=None)\n",
    "\n",
    "i_0 = int(start_time * fs)\n",
    "i_1 = i_0 + int(time_length * fs)\n",
    "\n",
    "x = x[i_0:i_1]\n",
    "\n",
    "if not fname:\n",
    "  os.remove(_fname)\n",
    "\n",
    "waveshow(x, sr=fs, alpha=.5, zorder=100)\n",
    "plt.grid()\n",
    "resize()\n",
    "play(x, rate=fs)"
   ]
  },
  {
   "cell_type": "markdown",
   "metadata": {},
   "source": [
    "## Define optimization problem"
   ]
  },
  {
   "cell_type": "markdown",
   "metadata": {},
   "source": [
    "Define fixed parameters, that will not be tuned by the optimizer.\n",
    "We will put a limit on the maximum number of synthesized modes (`max_n_modes=64`) to avoid excessive overfitting."
   ]
  },
  {
   "cell_type": "code",
   "execution_count": null,
   "metadata": {},
   "outputs": [],
   "source": [
    "sample_opt_fixed=dict(\n",
    "  max_n_modes=64,\n",
    "  sinusoidal_model__reverse=True,\n",
    "  sinusoidal_model__safe_sine_len=2,\n",
    "  sinusoidal_model__overlap=0.5,\n",
    "  sinusoidal_model__frequency_bounds=(50, 20e3),\n",
    ")"
   ]
  },
  {
   "cell_type": "markdown",
   "metadata": {},
   "source": [
    "Define the space of the parameters to tune. We will automatically adjust\n",
    " - the logarithm of the FFT size\n",
    " - the number of sinusoidal peaks per window\n",
    " - the threshold for peak detection\n",
    " - the minimum trajectory duration"
   ]
  },
  {
   "cell_type": "code",
   "execution_count": null,
   "metadata": {},
   "outputs": [],
   "source": [
    "import skopt.space\n",
    "sample_opt_space = dict(\n",
    "  sinusoidal_model__log_n=skopt.space.Integer(\n",
    "    6, 14, name=\"log2(n)\"),\n",
    "  sinusoidal_model__max_n_sines=skopt.space.Integer(\n",
    "    16, 128, name=\"n sines\"),\n",
    "  sinusoidal_model__peak_threshold=skopt.space.Real(\n",
    "    -120, -30, name=\"peak threshold\"),\n",
    "  sinusoidal_model__min_sine_dur=skopt.space.Real(\n",
    "    0, 0.5, name=\"min duration\"),\n",
    ")"
   ]
  },
  {
   "cell_type": "markdown",
   "metadata": {},
   "source": [
    "We will use the cochleagram to define an objective function"
   ]
  },
  {
   "cell_type": "code",
   "execution_count": null,
   "metadata": {},
   "outputs": [],
   "source": [
    "from sample.evaluation.metrics import CochleagramLoss\n",
    "from sample.utils.dsp import complex2db\n",
    "from functools import partial\n",
    "\n",
    "cochleagram_loss = CochleagramLoss(fs=fs,\n",
    "                                   normalize=True,\n",
    "                                   analytical=\"ir\",\n",
    "                                   stride=int(fs * 0.008),\n",
    "                                   postprocessing=partial(complex2db,\n",
    "                                                          floor=-60,\n",
    "                                                          floor_db=True))"
   ]
  },
  {
   "cell_type": "markdown",
   "metadata": {},
   "source": [
    "## Optimize\n",
    "Run the optimization procedure.\n",
    "Depending on the number of iterations, this could take a couple or more minutes"
   ]
  },
  {
   "cell_type": "code",
   "execution_count": null,
   "metadata": {},
   "outputs": [],
   "source": [
    "from tqdm.notebook import tqdm_notebook\n",
    "import sample.optimize\n",
    "\n",
    "#@markdown Check this to restart the optimization from scratch\n",
    "reset = True #@param {type:\"boolean\"}\n",
    "#@markdown ---\n",
    "#@markdown Number of optimization iterations\n",
    "n_minimizing_points = 32 #@param {type:\"integer\"}\n",
    "#@markdown Number of exploratory iterations\n",
    "n_initial_points = 32 #@param {type:\"integer\"}\n",
    "#@markdown ---\n",
    "#@markdown Random seed\n",
    "seed = 42 #@param {type:\"integer\"}\n",
    "\n",
    "n_calls = n_minimizing_points + n_initial_points\n",
    "if reset or \"opt_res\" not in locals():\n",
    "  opt_res = None\n",
    "sample_opt = sample.optimize.SAMPLEOptimizer(\n",
    "  sample_kw=sample_opt_fixed,\n",
    "  loss_fn=cochleagram_loss,\n",
    "  **sample_opt_space,\n",
    ")\n",
    "tqdm_cbk = sample.optimize.TqdmCallback(\n",
    "  sample_opt=sample_opt,\n",
    "  n_calls=n_calls,\n",
    "  n_initial_points=n_initial_points,\n",
    "  tqdm_fn=tqdm_notebook,\n",
    ")\n",
    "opt_model, opt_res = sample_opt.gp_minimize(\n",
    "  x=x, fs=fs,\n",
    "  n_calls=n_calls,\n",
    "  n_initial_points=n_initial_points,\n",
    "  callback=tqdm_cbk,\n",
    "  initial_point_generator=\"lhs\",\n",
    "  acq_func=\"LCB\",\n",
    "  state=opt_res,\n",
    "  random_state=seed,\n",
    ")"
   ]
  },
  {
   "cell_type": "markdown",
   "metadata": {},
   "source": [
    "### Listen back\n",
    "Listen to an additive resynthesis of the sound based on the estimated modal parameters.\n",
    "You can change the number of synthesized modes."
   ]
  },
  {
   "cell_type": "code",
   "execution_count": null,
   "metadata": {},
   "outputs": [],
   "source": [
    "from sample.psycho import cochleagram, hz2cams\n",
    "from sample.plots import tf_plot\n",
    "\n",
    "#@markdown Number of modes for resynthesis\n",
    "n_modes = 8 #@param {type:\"integer\"}\n",
    "\n",
    "n_modes_old = opt_model.get_params()[\"max_n_modes\"]\n",
    "opt_model.set_params(max_n_modes=n_modes)\n",
    "x_hat = np.clip(\n",
    "    opt_model.predict(np.arange(x.size) / fs, phases=\"random\", seed=1), -1, +1)\n",
    "opt_model.set_params(max_n_modes=n_modes_old)\n",
    "\n",
    "ax = plt.subplot(211)\n",
    "x_dual = np.array([x, x_hat])\n",
    "for l, xi in zip((\"original\", \"resynthesis\"), x_dual):\n",
    "  play(xi, rate=fs, label=l)\n",
    "  waveshow(xi, sr=fs, alpha=.5, zorder=100, label=l, ax=ax)\n",
    "plt.grid()\n",
    "plt.legend()\n",
    "\n",
    "coch_x, cfreq = cochleagram(x,\n",
    "                            filterbank=cochleagram_loss.filterbank,\n",
    "                            **cochleagram_loss.postprocessing)\n",
    "ax = plt.subplot(223, sharex=ax)\n",
    "tf_plot(coch_x,\n",
    "        ax=ax,\n",
    "        tlim=(0, x.size / fs),\n",
    "        flim=hz2cams(cfreq[[0, -1]]),\n",
    "        cmap=\"Blues\")\n",
    "ax.set_title(\"original\")\n",
    "\n",
    "coch_x_hat, _ = cochleagram(x_hat,\n",
    "                            filterbank=cochleagram_loss.filterbank,\n",
    "                            **cochleagram_loss.postprocessing)\n",
    "ax = plt.subplot(224, sharex=ax)\n",
    "tf_plot(coch_x_hat,\n",
    "        ax=ax,\n",
    "        tlim=(0, x.size / fs),\n",
    "        flim=hz2cams(cfreq[[0, -1]]),\n",
    "        cmap=\"Oranges\")\n",
    "ax.set_title(\"resynthesis\")\n",
    "\n",
    "resize(12, 12)"
   ]
  }
 ],
 "metadata": {
  "kernelspec": {
   "display_name": "Python 3",
   "language": "python",
   "name": "python3"
  },
  "language_info": {
   "codemirror_mode": {
    "name": "ipython",
    "version": 3
   },
   "file_extension": ".py",
   "mimetype": "text/x-python",
   "name": "python",
   "nbconvert_exporter": "python",
   "pygments_lexer": "ipython3",
   "version": "3.10.0"
  }
 },
 "nbformat": 4,
 "nbformat_minor": 4
}
