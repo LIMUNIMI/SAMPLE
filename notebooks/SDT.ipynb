{
 "cells": [
  {
   "cell_type": "markdown",
   "metadata": {},
   "source": [
    "# SAMPLE for SDT modal parameters\n",
    "In this notebook we will see how to estimate parameters for [*Sound Design Toolkit*](https://github.com/SkAT-VG/SDT)'s (SDT) `modal` objects"
   ]
  },
  {
   "cell_type": "markdown",
   "metadata": {},
   "source": [
    "## Setup"
   ]
  },
  {
   "cell_type": "markdown",
   "metadata": {},
   "source": [
    "### Libraries\n",
    "Install the `sample` package and its dependencies.\n",
    "The extras will install dependencies for helper functions such as plots"
   ]
  },
  {
   "cell_type": "code",
   "execution_count": null,
   "metadata": {},
   "outputs": [],
   "source": [
    "import sys\n",
    "!$sys.executable -m pip install -qU lim-sample[notebooks,plots]==2.0.0\n",
    "from sample import __version__\n",
    "from sample.vid import logo\n",
    "print(\"SAMPLE version:\", __version__)\n",
    "logo(size_inches=6)"
   ]
  },
  {
   "cell_type": "markdown",
   "metadata": {},
   "source": [
    "### Load audio\n",
    "Download the test audio or load your own audio file. In this notebook, you can specify\n",
    "\n",
    "   - a filename: to load the audio from file\n",
    "   - a URL: to download the audio file from the web (only if fname is empty)\n",
    "   - start time and length (in seconds): to cut the audio file"
   ]
  },
  {
   "cell_type": "code",
   "execution_count": null,
   "metadata": {},
   "outputs": [],
   "source": [
    "from matplotlib import pyplot as plt\n",
    "from librosa.display import waveshow, specshow\n",
    "from IPython import display as ipd\n",
    "import functools\n",
    "import librosa\n",
    "import requests\n",
    "import os\n",
    "\n",
    "@functools.wraps(ipd.Audio)\n",
    "def play(*args, **kwargs):\n",
    "  ipd.display(ipd.Audio(*args, **kwargs))\n",
    "\n",
    "def resize(w=12, h=6):\n",
    "  plt.gcf().set_size_inches([w, h])\n",
    "\n",
    "fname = \"\" #@param {type: \"string\"}\n",
    "url = \"http://soundbible.com/grab.php?id=2190&type=wav\" #@param {type: \"string\"}\n",
    "start_time = 1.298 #@param {type: \"number\"}\n",
    "time_length = 3 #@param {type: \"number\"}\n",
    "\n",
    "if not fname:\n",
    "  _fname = \"_testaudio.wav\"\n",
    "  r = requests.get(url)\n",
    "  with open(_fname, \"wb\") as f:\n",
    "    f.write(r.content)\n",
    "else:\n",
    "  _fname = fname\n",
    "\n",
    "x, fs = librosa.load(_fname, sr=None)\n",
    "\n",
    "i_0 = int(start_time * fs)\n",
    "i_1 = i_0 + int(time_length * fs)\n",
    "\n",
    "x = x[i_0:i_1]\n",
    "\n",
    "if not fname:\n",
    "  os.remove(_fname)\n",
    "\n",
    "waveshow(x, sr=fs, alpha=.5, zorder=100)\n",
    "plt.grid()\n",
    "resize()\n",
    "play(x, rate=fs)"
   ]
  },
  {
   "cell_type": "markdown",
   "metadata": {},
   "source": [
    "## Apply SAMPLE"
   ]
  },
  {
   "cell_type": "markdown",
   "metadata": {},
   "source": [
    "### Fit a SAMPLE object\n",
    "Apply SAMPLE to the audio file\n",
    "\n",
    "**Hint**: start with a small number of sines (e.g. `sinusoidal_model__max_n_sines=8`) and progressively increase it"
   ]
  },
  {
   "cell_type": "code",
   "execution_count": null,
   "metadata": {},
   "outputs": [],
   "source": [
    "from sample import SAMPLE\n",
    "from scipy import signal\n",
    "import numpy as np\n",
    "\n",
    "sample = SAMPLE(\n",
    "  sinusoidal_model__max_n_sines=8,\n",
    "  sinusoidal_model__min_sine_dur=0.2,\n",
    ").fit(x)\n",
    "reverse = sample.get_params().get(\"sinusoidal_model__reverse\", False)"
   ]
  },
  {
   "cell_type": "markdown",
   "metadata": {},
   "source": [
    "### Visualize\n",
    "Visualize tracked partials, then go back and adjust SAMPLE parameters to better model your audio"
   ]
  },
  {
   "cell_type": "code",
   "execution_count": null,
   "metadata": {},
   "outputs": [],
   "source": [
    "from librosa import stft, amplitude_to_db\n",
    "from sample import plots\n",
    "\n",
    "_, ax = plt.subplots(1, 2, sharex=True)\n",
    "X_db = amplitude_to_db(np.abs(stft(np.array(x))), ref=np.max)\n",
    "specshow(X_db, sr=fs, x_axis=\"time\", y_axis=\"hz\", ax=ax[0], cmap=\"Greys\")\n",
    "\n",
    "plots.sine_tracking_2d(sample.sinusoidal_model, ax=ax)\n",
    "resize()"
   ]
  },
  {
   "cell_type": "markdown",
   "metadata": {},
   "source": [
    "### Listen back\n",
    "You can also additively render audio from the model to get an idea of how SAMPLE has modelled your audio"
   ]
  },
  {
   "cell_type": "code",
   "execution_count": null,
   "metadata": {},
   "outputs": [],
   "source": [
    "x_hat = np.clip(sample.predict(np.arange(x.size) / fs), -1, +1)\n",
    "\n",
    "waveshow(x_hat, sr=fs, alpha=.5, zorder=100)\n",
    "plt.grid()\n",
    "resize()\n",
    "play(x_hat, rate=fs)"
   ]
  },
  {
   "cell_type": "markdown",
   "metadata": {},
   "source": [
    "### Compare\n",
    "You can listen to the original and resynthesized sounds and plot their STFTs side-by-side"
   ]
  },
  {
   "cell_type": "code",
   "execution_count": null,
   "metadata": {},
   "outputs": [],
   "source": [
    "from librosa import stft, amplitude_to_db\n",
    "\n",
    "ax = plt.subplot(211)\n",
    "x_dual = np.array([x, x_hat])\n",
    "for l, xi in zip((\"original\", \"resynthesis\"), x_dual):\n",
    "    waveshow(xi, sr=fs, alpha=.5, zorder=100, label=l, ax=ax)\n",
    "plt.grid()\n",
    "plt.legend()\n",
    "\n",
    "X_db = amplitude_to_db(np.abs(stft(x)), ref=np.max)\n",
    "ax = plt.subplot(223, sharex=ax)\n",
    "specshow(X_db, ax=ax, sr=fs, x_axis=\"time\", y_axis=\"hz\")\n",
    "ax.set_title(\"original\")\n",
    "\n",
    "X_hat_db = amplitude_to_db(np.abs(stft(x_hat)), ref=np.max)\n",
    "ax = plt.subplot(224, sharex=ax, sharey=ax)\n",
    "specshow(X_hat_db, ax=ax, sr=fs, x_axis=\"time\", y_axis=\"hz\")\n",
    "ax.set_title(\"resynthesis\")\n",
    "ax.set_ylim([0, 16000])\n",
    "\n",
    "resize(12, 12)\n",
    "ipd.display(ipd.HTML(\"Original\"))\n",
    "play(x, rate=fs)\n",
    "ipd.display(ipd.HTML(\"Resynthesis\"))\n",
    "play(x_hat, rate=fs)"
   ]
  },
  {
   "cell_type": "markdown",
   "metadata": {},
   "source": [
    "### Adjust\n",
    "Now, go back and adjust the parameters.\n",
    "Some common parameters that you could want to tweak are\n",
    "\n",
    "- `sinusoidal_model__max_n_sines`: the number of concurrent partials\n",
    "- `sinusoidal_model__t`: threshold for peak detection (dB)\n",
    "- `sinusoidal_model__peak_threshold`: threshold for the magnitude intercept (dB at time=0)\n",
    "- `sinusoidal_model__freq_dev_offset` and `sinusoidal_model__freq_dev_slope`: they control the frequency deviation threshold for the peak continuation. Threshold at frequency $f$ is $$\\text{offset}+\\text{slope}\\cdot f$$\n",
    "\n",
    "Below, all current parameters are listed"
   ]
  },
  {
   "cell_type": "code",
   "execution_count": null,
   "metadata": {},
   "outputs": [],
   "source": [
    "{\n",
    "    k: (str(v) if isinstance(v, np.ndarray) else v)\n",
    "    for k, v in sample.get_params().items()\n",
    "}"
   ]
  },
  {
   "cell_type": "markdown",
   "metadata": {},
   "source": [
    "**Hint**:\n",
    "Some good parameters for the test sound could be\n",
    "```\n",
    "sinusoidal_model__max_n_sines=64,\n",
    "sinusoidal_model__peak_threshold=-66,\n",
    "sinusoidal_model__freq_dev_slope=.0025,\n",
    "sinusoidal_model__min_sine_dur=0.1,\n",
    "sinusoidal_model__w=signal.blackmanharris(4096),\n",
    "sinusoidal_model__n=4096,\n",
    "sinusoidal_model__reverse=True,\n",
    "sinusoidal_model__strip_t=0.5,\n",
    "```"
   ]
  },
  {
   "cell_type": "markdown",
   "metadata": {},
   "source": [
    "## Export\n",
    "Once you are happy with your model, you can export the parameters in a SDT-compliant JSON file.  \n",
    "Specify a file to save the JSON string, otherwise, print it to screen"
   ]
  },
  {
   "cell_type": "code",
   "execution_count": null,
   "metadata": {},
   "outputs": [],
   "source": [
    "import json\n",
    "import copy\n",
    "\n",
    "json_file = \"\"  #@param {type: \"string\"}\n",
    "\n",
    "# You can also manipulate the parameters here\n",
    "_sample = copy.deepcopy(sample)\n",
    "_sample.amps_ *= 200\n",
    "\n",
    "params = _sample.sdt_params_()\n",
    "\n",
    "if json_file:\n",
    "  with open(json_file, \"w\") as f:\n",
    "    json.dump(\n",
    "      params,\n",
    "      f, indent=2,\n",
    "    )\n",
    "else:\n",
    "  print(json.dumps(\n",
    "    params,\n",
    "    indent=2\n",
    "  ))"
   ]
  }
 ],
 "metadata": {
  "kernelspec": {
   "display_name": "Python 3",
   "language": "python",
   "name": "python3"
  },
  "language_info": {
   "codemirror_mode": {
    "name": "ipython",
    "version": 3
   },
   "file_extension": ".py",
   "mimetype": "text/x-python",
   "name": "python",
   "nbconvert_exporter": "python",
   "pygments_lexer": "ipython3",
   "version": "3.10.0"
  }
 },
 "nbformat": 4,
 "nbformat_minor": 4
}
