{
 "cells": [
  {
   "cell_type": "markdown",
   "metadata": {},
   "source": [
    "# SAMPLE for SDT modal parameters\n",
    "In this notebook we will see how to estimate parameters for [*Sound Design Toolkit*](https://github.com/SkAT-VG/SDT)'s (SDT) `modal` objects"
   ]
  },
  {
   "cell_type": "markdown",
   "metadata": {},
   "source": [
    "## Setup"
   ]
  },
  {
   "cell_type": "markdown",
   "metadata": {},
   "source": [
    "### Libraries\n",
    "Install the `sample` package and its dependencies.\n",
    "The extra `notebooks` will install dependencies for helper functions such as plots"
   ]
  },
  {
   "cell_type": "code",
   "execution_count": null,
   "metadata": {},
   "outputs": [],
   "source": [
    "from IPython.display import clear_output\n",
    "import sys\n",
    "!$sys.executable -m pip install lim-sample[notebooks]==1.2.0\n",
    "clear_output()"
   ]
  },
  {
   "cell_type": "markdown",
   "metadata": {},
   "source": [
    "### Download test audio\n",
    "This is for demonstration purposes, you would want to load your own audio here"
   ]
  },
  {
   "cell_type": "code",
   "execution_count": null,
   "metadata": {},
   "outputs": [],
   "source": [
    "from matplotlib import pyplot as plt\n",
    "from librosa.display import waveplot, specshow\n",
    "from IPython.display import Audio as play\n",
    "import librosa\n",
    "\n",
    "def resize(w=12, h=6):\n",
    "  plt.gcf().set_size_inches([w, h])\n",
    "\n",
    "url = \"https://chromaticisobar.gitlab.io/pyaprsi2/audio/front-desk-bells-daniel_simon_original.mp3\"\n",
    "fname = \".testaudio.mp3\"\n",
    "!wget $url -O $fname\n",
    "\n",
    "x, fs = librosa.load(fname, sr=44100)\n",
    "\n",
    "!rm -f $fname\n",
    "\n",
    "clear_output()\n",
    "waveplot(x, sr=fs, alpha=.5, zorder=100)\n",
    "plt.grid()\n",
    "resize()\n",
    "play(x, rate=fs)"
   ]
  },
  {
   "cell_type": "markdown",
   "metadata": {},
   "source": [
    "## Apply SAMPLE"
   ]
  },
  {
   "cell_type": "markdown",
   "metadata": {},
   "source": [
    "### Fit a SAMPLE object\n",
    "Apply SAMPLE to the audio file\n",
    "\n",
    "**Hint**: start with a small number of sines (e.g. `sinusoidal_model__max_n_sines=8`) and progressively increase it"
   ]
  },
  {
   "cell_type": "code",
   "execution_count": null,
   "metadata": {},
   "outputs": [],
   "source": [
    "from sample import SAMPLE\n",
    "from scipy import signal\n",
    "import numpy as np\n",
    "\n",
    "sample = SAMPLE(\n",
    "    sinusoidal_model__max_n_sines=8,\n",
    "    sinusoidal_model__min_sine_dur=0.2,\n",
    ").fit(x)\n",
    "reverse = sample.get_params().get(\"sinusoidal_model__reverse\", False)"
   ]
  },
  {
   "cell_type": "markdown",
   "metadata": {},
   "source": [
    "### Visualize\n",
    "Visualize tracked partials, then go back and adjust SAMPLE parameters to better model your audio"
   ]
  },
  {
   "cell_type": "code",
   "execution_count": null,
   "metadata": {},
   "outputs": [],
   "source": [
    "from librosa import stft, amplitude_to_db\n",
    "from sample import plots\n",
    "\n",
    "_, ax = plt.subplots(1, 2, sharex=True)\n",
    "X_db = amplitude_to_db(np.abs(stft(np.array(np.flip(x)) if reverse else x)), ref=np.max)\n",
    "specshow(X_db, sr=fs, x_axis=\"time\", y_axis=\"hz\", ax=ax[0], cmap=\"Greys\")\n",
    "\n",
    "plots.sine_tracking_2d(sample.sinusoidal_model, ax=ax)\n",
    "resize()"
   ]
  },
  {
   "cell_type": "markdown",
   "metadata": {},
   "source": [
    "### Listen back\n",
    "You can also additively render audio from the model to get an idea of how SAMPLE has modelled your audio"
   ]
  },
  {
   "cell_type": "code",
   "execution_count": null,
   "metadata": {},
   "outputs": [],
   "source": [
    "x_hat = np.clip(sample.predict(np.arange(x.size) / fs), -1, +1)\n",
    "\n",
    "waveplot(x_hat, sr=fs, alpha=.5, zorder=100)\n",
    "plt.grid()\n",
    "resize()\n",
    "play(x_hat, rate=fs)"
   ]
  },
  {
   "cell_type": "markdown",
   "metadata": {},
   "source": [
    "### Compare\n",
    "You can listen to the original and resynthesized sounds together instereo and plot their STFTs side-by-side"
   ]
  },
  {
   "cell_type": "code",
   "execution_count": null,
   "metadata": {},
   "outputs": [],
   "source": [
    "from librosa import stft, amplitude_to_db\n",
    "\n",
    "ax = plt.subplot(211)\n",
    "x_dual = np.array([x, x_hat])\n",
    "for l, xi in zip((\"original\", \"resynthesis\"), x_dual):\n",
    "    waveplot(xi, sr=fs, alpha=.5, zorder=100, label=l, ax=ax)\n",
    "plt.grid()\n",
    "plt.legend()\n",
    "\n",
    "X_db = amplitude_to_db(np.abs(stft(x)), ref=np.max)\n",
    "ax = plt.subplot(223, sharex=ax)\n",
    "specshow(X_db, ax=ax, sr=fs, x_axis=\"time\", y_axis=\"hz\")\n",
    "ax.set_title(\"original\")\n",
    "\n",
    "X_hat_db = amplitude_to_db(np.abs(stft(x_hat)), ref=np.max)\n",
    "ax = plt.subplot(224, sharex=ax, sharey=ax)\n",
    "specshow(X_hat_db, ax=ax, sr=fs, x_axis=\"time\", y_axis=\"hz\")\n",
    "ax.set_title(\"resynthesis\")\n",
    "ax.set_ylim([0, 16000])\n",
    "\n",
    "resize(12, 12)\n",
    "play(x_dual, rate=fs)"
   ]
  },
  {
   "cell_type": "markdown",
   "metadata": {},
   "source": [
    "### Adjust\n",
    "Now, go back and adjust the parameters.\n",
    "Some common parameters that you could want to tweak are\n",
    "\n",
    "- `sinusoidal_model__max_n_sines`: the number of concurrent partials\n",
    "- `sinusoidal_model__t`: threshold for peak detection (dB)\n",
    "- `sinusoidal_model__peak_threshold`: threshold for the magnitude intercept (dB at time=0)\n",
    "- `sinusoidal_model__freq_dev_offset` and `sinusoidal_model__freq_dev_slope`: they control the frequency deviation threshold for the peak continuation. Threshold at frequency $f$ is $$\\text{offset}+\\text{slope}\\cdot f$$\n",
    "\n",
    "Below, all current parameters are listed"
   ]
  },
  {
   "cell_type": "code",
   "execution_count": null,
   "metadata": {},
   "outputs": [],
   "source": [
    "{\n",
    "    k: (str(v) if isinstance(v, np.ndarray) else v)\n",
    "    for k, v in sample.get_params().items()\n",
    "}"
   ]
  },
  {
   "cell_type": "markdown",
   "metadata": {},
   "source": [
    "**Hint**:\n",
    "Some good parameters for this sound could be\n",
    "```\n",
    "sinusoidal_model__max_n_sines=64,\n",
    "sinusoidal_model__peak_threshold=-66,\n",
    "sinusoidal_model__freq_dev_slope=.005,\n",
    "sinusoidal_model__min_sine_dur=0.1,\n",
    "sinusoidal_model__w=signal.blackmanharris(4096),\n",
    "sinusoidal_model__n=4096,\n",
    "sinusoidal_model__reverse=True,\n",
    "```"
   ]
  },
  {
   "cell_type": "markdown",
   "metadata": {},
   "source": [
    "## Export\n",
    "Once you are happy with your model, you can export the parameters in a SDT-compliant JSON file"
   ]
  },
  {
   "cell_type": "code",
   "execution_count": null,
   "metadata": {},
   "outputs": [],
   "source": [
    "import json\n",
    "print(json.dumps(sample.sdt_params_(), indent=2))"
   ]
  }
 ],
 "metadata": {
  "kernelspec": {
   "display_name": "Python 3",
   "language": "python",
   "name": "python3"
  },
  "language_info": {
   "codemirror_mode": {
    "name": "ipython",
    "version": 3
   },
   "file_extension": ".py",
   "mimetype": "text/x-python",
   "name": "python",
   "nbconvert_exporter": "python",
   "pygments_lexer": "ipython3",
   "version": "3.7.10"
  }
 },
 "nbformat": 4,
 "nbformat_minor": 4
}
