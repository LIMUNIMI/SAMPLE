{
 "cells": [
  {
   "cell_type": "markdown",
   "metadata": {},
   "source": [
    "# Spectral Analysis for Modal Parameter Linear Estimate"
   ]
  },
  {
   "cell_type": "markdown",
   "metadata": {},
   "source": [
    "## Setup"
   ]
  },
  {
   "cell_type": "markdown",
   "metadata": {},
   "source": [
    "### Libraries\n",
    "Install the `sample` package and its dependencies.\n",
    "The extras will install dependencies for helper functions such as plots"
   ]
  },
  {
   "cell_type": "code",
   "execution_count": null,
   "metadata": {},
   "outputs": [],
   "source": [
    "import sys\n",
    "!$sys.executable -m pip install -qU lim-sample[notebooks,plots]==1.3.0"
   ]
  },
  {
   "cell_type": "markdown",
   "metadata": {},
   "source": [
    "### Generate test audio\n",
    "We will synthesize a modal-like sound with three modal frequencies (440, 650, 690 Hz) using simple additive synthesis.\n",
    "\n",
    "Sampling frequency is 44100 Hz and the duration is 2 seconds.\n",
    "\n",
    "Also, we will add a gaussian noise at -40 dB SNR to mimic a bad recording environment."
   ]
  },
  {
   "cell_type": "code",
   "execution_count": null,
   "metadata": {},
   "outputs": [],
   "source": [
    "from matplotlib import pyplot as plt\n",
    "from librosa.display import waveplot, specshow\n",
    "from IPython.display import Audio as play\n",
    "from sample.utils import test_audio\n",
    "import numpy as np\n",
    "\n",
    "def resize(w=12, h=6):\n",
    "  plt.gcf().set_size_inches([w, h])\n",
    "\n",
    "fs = 44100\n",
    "x = test_audio(fs=fs, noise_db=-40)\n",
    "\n",
    "waveplot(x, sr=fs, alpha=.5, zorder=100)\n",
    "plt.grid()\n",
    "resize()\n",
    "play(x, rate=fs)"
   ]
  },
  {
   "cell_type": "markdown",
   "metadata": {},
   "source": [
    "## Interface\n",
    "Using the SAMPLE model is simplified by a scikit-learn-like API"
   ]
  },
  {
   "cell_type": "code",
   "execution_count": null,
   "metadata": {},
   "outputs": [],
   "source": [
    "from sample import SAMPLE\n",
    "sample = SAMPLE(\n",
    "    sinusoidal_model__max_n_sines=10,\n",
    "    sinusoidal_model__peak_threshold=-30,\n",
    "    sinusoidal_model__save_intermediate=True\n",
    ").fit(x)"
   ]
  },
  {
   "cell_type": "markdown",
   "metadata": {},
   "source": [
    "## Sinusoidal Model\n",
    "SAMPLE is based on Serra's *Spectral Modelling Synthesis* (SMS),\n",
    "an analysis and synthesis system for musical sounds based\n",
    "on the decomposition of the sound into a deterministic\n",
    "sinusoidal and a stochastic component.\n",
    "\n",
    "The main components of the sinusoidal analysis are the peak detection\n",
    "and the peak continuation algorithms."
   ]
  },
  {
   "cell_type": "markdown",
   "metadata": {},
   "source": [
    "### STFT\n",
    "The peak detection/continuation algorithm is based on an analysis of the Short-Time Fourier Transform. Zero-phase windowing is employed."
   ]
  },
  {
   "cell_type": "code",
   "execution_count": null,
   "metadata": {},
   "outputs": [],
   "source": [
    "stft = np.array([\n",
    "  mx\n",
    "  for mx, _ in sample.sinusoidal_model.intermediate_[\"stft\"]\n",
    "]).T\n",
    "\n",
    "specshow(stft, sr=fs, x_axis=\"time\", y_axis=\"hz\");\n",
    "plt.ylim([0, 2000])\n",
    "resize()"
   ]
  },
  {
   "cell_type": "markdown",
   "metadata": {},
   "source": [
    "### Peak detection\n",
    "The peak detection algorithm detects peaks in each STFT frame of the analysed\n",
    "sound as a local maximum in the magnitude spectrum"
   ]
  },
  {
   "cell_type": "code",
   "execution_count": null,
   "metadata": {},
   "outputs": [],
   "source": [
    "mx, px = sample.sinusoidal_model.intermediate_[\"stft\"][0]\n",
    "f = fs * np.arange(mx.size) / sample.sinusoidal_model.w_.size\n",
    "ploc, pmag, pph = sample.sinusoidal_model.intermediate_[\"peaks\"][0]\n",
    "\n",
    "ax = plt.subplot(121)\n",
    "plt.fill_between(f, np.full(mx.shape, -120), mx, alpha=.1)\n",
    "plt.plot(f, mx)\n",
    "plt.scatter(ploc * fs / sample.sinusoidal_model.w_.size, pmag, c=\"C0\")\n",
    "plt.ylim([-60, plt.ylim()[1]])\n",
    "plt.grid()\n",
    "plt.title(\"magnitude\")\n",
    "\n",
    "plt.subplot(122, sharex=ax)\n",
    "plt.plot(f, px)\n",
    "plt.scatter(ploc * fs / sample.sinusoidal_model.w_.size, pph)\n",
    "plt.ylim([np.min(px[f < 2000]), np.max(px[f < 2000])])\n",
    "plt.grid()\n",
    "plt.title(\"phase\")\n",
    "plt.xlim([0, 2000])\n",
    "resize()"
   ]
  },
  {
   "cell_type": "markdown",
   "metadata": {},
   "source": [
    "### Peak continuation\n",
    "The peak continuation algorithm organizes the peaks into temporal tracks,\n",
    "with every track representing the time-varying behaviour of a partial.\n",
    "For every peak in a trajectory, the instantaneous frequency, magnitude\n",
    "and phase are stored to allow further manipulation and resynthesis.\n",
    "\n",
    "The general-purpose SMS method enables recycling of the peak tracks data structures: if one trajectory\n",
    "becomes inactive, it can be later picked up when a newly detected partial arises.\n",
    "Our implementation doesn't allow this.\n",
    "\n",
    "Moreover, two tracks that do not overlap in time but have approximately the same\n",
    "average frequency can be considered as belonging to the same partial and merged into the same track."
   ]
  },
  {
   "cell_type": "code",
   "execution_count": null,
   "metadata": {},
   "outputs": [],
   "source": [
    "from sample import plots\n",
    "plots.sine_tracking_2d(sample.sinusoidal_model)\n",
    "resize()"
   ]
  },
  {
   "cell_type": "code",
   "execution_count": null,
   "metadata": {},
   "outputs": [],
   "source": [
    "from sample import plots\n",
    "plots.sine_tracking_3d(sample.sinusoidal_model)\n",
    "resize(6, 6)"
   ]
  },
  {
   "cell_type": "markdown",
   "metadata": {},
   "source": [
    "## Regression\n",
    "Partials of a modal impact sound are characterized by exponentially decaying amplitudes.\n",
    "Our model for model partials is\n",
    "$$x(t) = m\\cdot e^{-2\\frac{t}{d}}\\cdot \\sin{\\left(2\\pi f t + \\phi\\right)}$$\n",
    "\n",
    "The magnitude in decibels is a linear funtion of time\n",
    "$$m_{dB}(t) = 20\\log_{10}{\\left(m\\cdot e^{-2\\frac{t}{d}}\\right)} = 20\\log_{10}{m} - 40\\frac{\\log_{10}{e}}{d} \\cdot t$$\n",
    "\n",
    "$$k = - 40\\frac{\\log_{10}{e}}{d}$$\n",
    "$$q = 20\\log_{10}{m}$$\n",
    "\n",
    "$$m_{dB}(t) = kt + q$$\n",
    "\n",
    "We use linear regression to find an initial estimate of the parameters $k$ and $q$ from the magnitude tracks. Then, we refine the estimate by fitting a semi-linear *hinge* function. Amplitude is then doubled to compensate for the fact that we are looking at only half of the spectrum"
   ]
  },
  {
   "cell_type": "code",
   "execution_count": null,
   "metadata": {},
   "outputs": [],
   "source": [
    "t_x = np.arange(x.size) / fs\n",
    "for i, ((f, d, a), t) in enumerate(zip(sample.param_matrix_.T, sample.sinusoidal_model.tracks_)):\n",
    "    c = \"C{}\".format(i)\n",
    "    t_t = (t[\"start_frame\"] + np.arange(t[\"freq\"].size)) * sample.sinusoidal_model.h / sample.sinusoidal_model.fs\n",
    "    plt.plot(t_t, t[\"mag\"] + 6.02, c=c, alpha=.33, linewidth=3)  # compensate for spectral halving\n",
    "    plt.plot(t_x, 20*np.log10(a * np.exp(-2*t_x / d)), \"--\", c=c)\n",
    "\n",
    "plt.title(\"fitted curves\")\n",
    "plt.grid()\n",
    "plt.ylabel(\"magnitude (dB)\")\n",
    "plt.xlabel(\"time (s)\")\n",
    "plt.legend([\"track\", \"fitted\"])\n",
    "resize(6, 6)"
   ]
  },
  {
   "cell_type": "markdown",
   "metadata": {},
   "source": [
    "Frequency is simply estimated as the mean frequency of the peak track"
   ]
  },
  {
   "cell_type": "markdown",
   "metadata": {},
   "source": [
    "# Resynthesize\n",
    "Let's resynthesize the sound using the estimated parameters (via additive synthesis)"
   ]
  },
  {
   "cell_type": "code",
   "execution_count": null,
   "metadata": {},
   "outputs": [],
   "source": [
    "x_hat = sample.predict(np.arange(x.size) / fs)\n",
    "\n",
    "waveplot(x_hat, sr=fs, alpha=.5, zorder=100)\n",
    "plt.grid()\n",
    "resize()\n",
    "play(x_hat, rate=fs)"
   ]
  },
  {
   "cell_type": "markdown",
   "metadata": {},
   "source": [
    "Play back the original sound to compare"
   ]
  },
  {
   "cell_type": "code",
   "execution_count": null,
   "metadata": {},
   "outputs": [],
   "source": [
    "play(x, rate=fs)"
   ]
  },
  {
   "cell_type": "markdown",
   "metadata": {},
   "source": [
    "Or play both at the same time in stereo"
   ]
  },
  {
   "cell_type": "code",
   "execution_count": null,
   "metadata": {},
   "outputs": [],
   "source": [
    "from librosa import stft, amplitude_to_db\n",
    "\n",
    "ax = plt.subplot(211)\n",
    "x_dual = np.array([x, x_hat])\n",
    "for l, xi in zip((\"original\", \"resynthesis\"), x_dual):\n",
    "    waveplot(xi, sr=fs, alpha=.5, zorder=100, label=l, ax=ax)\n",
    "plt.grid()\n",
    "plt.legend()\n",
    "\n",
    "X_db = amplitude_to_db(np.abs(stft(x)), ref=np.max)\n",
    "ax = plt.subplot(223, sharex=ax)\n",
    "specshow(X_db, ax=ax, sr=fs, x_axis=\"time\", y_axis=\"hz\")\n",
    "ax.set_title(\"original\")\n",
    "\n",
    "X_hat_db = amplitude_to_db(np.abs(stft(x_hat)), ref=np.max)\n",
    "ax = plt.subplot(224, sharex=ax, sharey=ax)\n",
    "specshow(X_hat_db, ax=ax, sr=fs, x_axis=\"time\", y_axis=\"hz\")\n",
    "ax.set_title(\"resynthesis\")\n",
    "ax.set_ylim([0, 2000])\n",
    "\n",
    "resize(12, 12)\n",
    "play(x_dual, rate=fs)"
   ]
  }
 ],
 "metadata": {
  "kernelspec": {
   "display_name": "Python 3",
   "language": "python",
   "name": "python3"
  },
  "language_info": {
   "codemirror_mode": {
    "name": "ipython",
    "version": 3
   },
   "file_extension": ".py",
   "mimetype": "text/x-python",
   "name": "python",
   "nbconvert_exporter": "python",
   "pygments_lexer": "ipython3",
   "version": "3.7.10"
  }
 },
 "nbformat": 4,
 "nbformat_minor": 4
}
