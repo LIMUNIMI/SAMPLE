{
 "cells": [
  {
   "cell_type": "markdown",
   "metadata": {},
   "source": [
    "# Spectral Analysis for Modal Parameter Linear Estimate"
   ]
  },
  {
   "cell_type": "markdown",
   "metadata": {},
   "source": [
    "## Setup"
   ]
  },
  {
   "cell_type": "markdown",
   "metadata": {},
   "source": [
    "\n",
    "### Libraries"
   ]
  },
  {
   "cell_type": "code",
   "execution_count": null,
   "metadata": {},
   "outputs": [],
   "source": [
    "# Install requirements\n",
    "from IPython.display import clear_output\n",
    "import sys\n",
    "!$sys.executable -m pip install lim-sample[notebooks]==0.0.2\n",
    "clear_output()"
   ]
  },
  {
   "cell_type": "markdown",
   "metadata": {},
   "source": [
    "### Generate test audio"
   ]
  },
  {
   "cell_type": "code",
   "execution_count": null,
   "metadata": {},
   "outputs": [],
   "source": [
    "from matplotlib import pyplot as plt\n",
    "from librosa.display import waveplot, specshow\n",
    "from IPython.display import Audio as play\n",
    "from sample.utils import test_audio\n",
    "import numpy as np\n",
    "\n",
    "def resize(w=12, h=6):\n",
    "  plt.gcf().set_size_inches([w, h])\n",
    "\n",
    "fs = 44100\n",
    "x = test_audio(fs=fs)\n",
    "\n",
    "waveplot(x, sr=fs, alpha=.5, zorder=100)\n",
    "plt.grid()\n",
    "resize()\n",
    "play(x, rate=fs)"
   ]
  },
  {
   "cell_type": "markdown",
   "metadata": {},
   "source": [
    "## Sinusoidal Model"
   ]
  },
  {
   "cell_type": "code",
   "execution_count": null,
   "metadata": {},
   "outputs": [],
   "source": [
    "from sample import SAMPLE\n",
    "sample = SAMPLE(\n",
    "    sinusoidal_model__max_n_sines=10,\n",
    "    sinusoidal_model__peak_threshold=-30,\n",
    "    sinusoidal_model__save_intermediate=True\n",
    ").fit(x)"
   ]
  },
  {
   "cell_type": "markdown",
   "metadata": {},
   "source": [
    "### STFT"
   ]
  },
  {
   "cell_type": "code",
   "execution_count": null,
   "metadata": {},
   "outputs": [],
   "source": [
    "stft = np.array([\n",
    "  mx\n",
    "  for mx, _ in sample.sinusoidal_model.intermediate_[\"stft\"]\n",
    "]).T\n",
    "\n",
    "specshow(stft, sr=fs, x_axis=\"time\", y_axis=\"hz\");\n",
    "plt.ylim([0, 2000])\n",
    "resize()"
   ]
  },
  {
   "cell_type": "markdown",
   "metadata": {},
   "source": [
    "### Peak detection"
   ]
  },
  {
   "cell_type": "code",
   "execution_count": null,
   "metadata": {},
   "outputs": [],
   "source": [
    "mx, px = sample.sinusoidal_model.intermediate_[\"stft\"][0]\n",
    "f = fs * np.arange(mx.size) / sample.sinusoidal_model.w_.size\n",
    "ploc, pmag, pph = sample.sinusoidal_model.intermediate_[\"peaks\"][0]\n",
    "\n",
    "ax = plt.subplot(121)\n",
    "plt.fill_between(f, np.full(mx.shape, -120), mx, alpha=.1)\n",
    "plt.plot(f, mx)\n",
    "plt.scatter(ploc * fs / sample.sinusoidal_model.w_.size, pmag, c=\"C0\")\n",
    "plt.ylim([-60, plt.ylim()[1]])\n",
    "plt.grid()\n",
    "plt.title(\"magnitude\")\n",
    "\n",
    "plt.subplot(122, sharex=ax)\n",
    "plt.plot(f, px)\n",
    "plt.scatter(ploc * fs / sample.sinusoidal_model.w_.size, pph)\n",
    "plt.ylim([np.min(px[f < 2000]), np.max(px[f < 2000])])\n",
    "plt.grid()\n",
    "plt.title(\"phase\")\n",
    "plt.xlim([0, 2000])\n",
    "resize()"
   ]
  },
  {
   "cell_type": "markdown",
   "metadata": {},
   "source": [
    "### Sine tracking"
   ]
  },
  {
   "cell_type": "code",
   "execution_count": null,
   "metadata": {},
   "outputs": [],
   "source": [
    "from sample import plots\n",
    "plots.sine_tracking_2d(sample.sinusoidal_model)\n",
    "resize()"
   ]
  },
  {
   "cell_type": "code",
   "execution_count": null,
   "metadata": {},
   "outputs": [],
   "source": [
    "from sample import plots\n",
    "plots.sine_tracking_3d(sample.sinusoidal_model)\n",
    "resize(6, 6)"
   ]
  },
  {
   "cell_type": "markdown",
   "metadata": {},
   "source": [
    "## Regression"
   ]
  },
  {
   "cell_type": "code",
   "execution_count": null,
   "metadata": {},
   "outputs": [],
   "source": [
    "_, ax = plt.subplots(1, 2, sharex=True, sharey=True)\n",
    "plots.sine_tracking_2d(sample.sinusoidal_model, ax=ax)\n",
    "\n",
    "t_x = np.arange(x.size) / fs\n",
    "ax[0].cla()\n",
    "for f, d, a in sample.param_matrix_.T:\n",
    "    ax[0].plot(t_x, 20*np.log10(a * np.exp(-2*t_x / d)))\n",
    "\n",
    "ax[0].set_title(\"fitted curves\")\n",
    "ax[0].grid()\n",
    "ax[0].set_ylabel(\"magnitude (dB)\")\n",
    "ax[0].set_xlabel(ax[1].get_xlabel())\n",
    "ax[1].set_title(\"ground truth\")\n",
    "ax[1].set_ylabel(\"\")\n",
    "resize()"
   ]
  },
  {
   "cell_type": "markdown",
   "metadata": {},
   "source": [
    "# Resynthesize"
   ]
  },
  {
   "cell_type": "code",
   "execution_count": null,
   "metadata": {},
   "outputs": [],
   "source": [
    "x_hat = sample.predict(np.arange(x.size) / fs)\n",
    "\n",
    "waveplot(x_hat, sr=fs, alpha=.5, zorder=100)\n",
    "plt.grid()\n",
    "resize()\n",
    "play(x_hat, rate=fs)"
   ]
  },
  {
   "cell_type": "markdown",
   "metadata": {},
   "source": [
    "Play against each other in stereo"
   ]
  },
  {
   "cell_type": "code",
   "execution_count": null,
   "metadata": {},
   "outputs": [],
   "source": [
    "x_dual = np.array([x, x_hat])\n",
    "for l, xi in zip((\"original\", \"resynthesis\"), x_dual):\n",
    "    waveplot(xi, sr=fs, alpha=.5, zorder=100, label=l)\n",
    "plt.grid()\n",
    "plt.legend()\n",
    "resize()\n",
    "play(x_dual, rate=fs)"
   ]
  }
 ],
 "metadata": {
  "kernelspec": {
   "display_name": "Python 3",
   "language": "python",
   "name": "python3"
  },
  "language_info": {
   "codemirror_mode": {
    "name": "ipython",
    "version": 3
   },
   "file_extension": ".py",
   "mimetype": "text/x-python",
   "name": "python",
   "nbconvert_exporter": "python",
   "pygments_lexer": "ipython3",
   "version": "3.7.10"
  }
 },
 "nbformat": 4,
 "nbformat_minor": 4
}
