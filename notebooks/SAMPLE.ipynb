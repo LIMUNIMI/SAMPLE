{
 "cells": [
  {
   "cell_type": "markdown",
   "metadata": {},
   "source": [
    "# Spectral Analysis for Modal Parameter Linear Estimate"
   ]
  },
  {
   "cell_type": "markdown",
   "metadata": {},
   "source": [
    "## Setup\n",
    "### Libraries"
   ]
  },
  {
   "cell_type": "code",
   "execution_count": null,
   "metadata": {},
   "outputs": [],
   "source": [
    "# Install requirements\n",
    "import sys\n",
    "!$sys.executable -m pip install -r ../requirements.txt --upgrade\n",
    "\n",
    "from IPython import display\n",
    "display.clear_output()"
   ]
  },
  {
   "cell_type": "code",
   "execution_count": null,
   "metadata": {},
   "outputs": [],
   "source": [
    "# Add parent directory to path\n",
    "import os\n",
    "sys.path.insert(0, os.path.abspath(\"..\"))"
   ]
  },
  {
   "cell_type": "code",
   "execution_count": null,
   "metadata": {},
   "outputs": [],
   "source": [
    "import sample\n",
    "from tests import utils\n",
    "import numpy as np\n",
    "from matplotlib import pyplot as plt\n",
    "import librosa.display"
   ]
  },
  {
   "cell_type": "markdown",
   "metadata": {},
   "source": [
    "### Generate test audio"
   ]
  },
  {
   "cell_type": "code",
   "execution_count": null,
   "metadata": {},
   "outputs": [],
   "source": [
    "fs = 44100\n",
    "x = utils.test_audio(fs=fs)\n",
    "\n",
    "librosa.display.waveplot(x, sr=fs, zorder=100)\n",
    "plt.grid()\n",
    "plt.gcf().set_size_inches([12, 6])\n",
    "display.Audio(x, rate=fs)"
   ]
  },
  {
   "cell_type": "markdown",
   "metadata": {},
   "source": [
    "## Sinusoidal Model"
   ]
  },
  {
   "cell_type": "code",
   "execution_count": null,
   "metadata": {},
   "outputs": [],
   "source": [
    "from sample.sms import mm\n",
    "sm = mm.ModalModel(\n",
    "    max_n_sines=10,\n",
    "    peak_threshold=-30,\n",
    "    save_intermediate=True\n",
    ").fit(x)"
   ]
  },
  {
   "cell_type": "markdown",
   "metadata": {},
   "source": [
    "### STFT"
   ]
  },
  {
   "cell_type": "code",
   "execution_count": null,
   "metadata": {},
   "outputs": [],
   "source": [
    "stft = np.array([mx for mx, _ in sm.intermediate_[\"stft\"]]).T\n",
    "\n",
    "librosa.display.specshow(stft, sr=fs, x_axis=\"time\", y_axis=\"hz\");\n",
    "plt.ylim([0, 2000])\n",
    "plt.gcf().set_size_inches([12, 6])"
   ]
  },
  {
   "cell_type": "markdown",
   "metadata": {},
   "source": [
    "### Peak detection"
   ]
  },
  {
   "cell_type": "code",
   "execution_count": null,
   "metadata": {},
   "outputs": [],
   "source": [
    "mx, px = sm.intermediate_[\"stft\"][0]\n",
    "f = fs * np.arange(mx.size) / sm.w_.size\n",
    "ploc, pmag, pph = sm.intermediate_[\"peaks\"][0]\n",
    "\n",
    "ax = plt.subplot(121)\n",
    "plt.fill_between(f, np.full(mx.shape, -120), mx, alpha=.1)\n",
    "plt.plot(f, mx)\n",
    "plt.scatter(ploc * fs / sm.w_.size, pmag, c=\"C0\")\n",
    "plt.ylim([-60, plt.ylim()[1]])\n",
    "plt.grid()\n",
    "plt.title(\"magnitude\")\n",
    "\n",
    "plt.subplot(122, sharex=ax)\n",
    "plt.plot(f, px)\n",
    "plt.scatter(ploc * fs / sm.w_.size, pph)\n",
    "plt.ylim([np.min(px[f < 2000]), np.max(px[f < 2000])])\n",
    "plt.grid()\n",
    "plt.title(\"phase\")\n",
    "plt.xlim([0, 2000])\n",
    "plt.gcf().set_size_inches([12, 6])"
   ]
  },
  {
   "cell_type": "markdown",
   "metadata": {},
   "source": [
    "### Sine tracking"
   ]
  },
  {
   "cell_type": "code",
   "execution_count": null,
   "metadata": {},
   "outputs": [],
   "source": [
    "from sample import plots\n",
    "plots.sine_tracking_2d(sm)\n",
    "plt.gcf().set_size_inches([12, 6])"
   ]
  },
  {
   "cell_type": "code",
   "execution_count": null,
   "metadata": {},
   "outputs": [],
   "source": [
    "from sample import plots\n",
    "plots.sine_tracking_3d(sm)\n",
    "plt.gcf().set_size_inches([12, 6])"
   ]
  }
 ],
 "metadata": {
  "kernelspec": {
   "display_name": "sample",
   "language": "python",
   "name": "sample"
  },
  "language_info": {
   "codemirror_mode": {
    "name": "ipython",
    "version": 3
   },
   "file_extension": ".py",
   "mimetype": "text/x-python",
   "name": "python",
   "nbconvert_exporter": "python",
   "pygments_lexer": "ipython3",
   "version": "3.7.10"
  }
 },
 "nbformat": 4,
 "nbformat_minor": 4
}
