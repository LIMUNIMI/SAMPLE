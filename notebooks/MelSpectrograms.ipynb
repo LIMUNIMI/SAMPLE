{
 "cells": [
  {
   "cell_type": "markdown",
   "metadata": {},
   "source": [
    "# Mel Spectrograms\n",
    "Optimize the number of filters for mel-spectrograms"
   ]
  },
  {
   "cell_type": "markdown",
   "metadata": {},
   "source": [
    "## Setup"
   ]
  },
  {
   "cell_type": "markdown",
   "metadata": {},
   "source": [
    "### Libraries\n",
    "Install the `sample` package and its dependencies.\n",
    "The extras will install dependencies for helper functions such as plots"
   ]
  },
  {
   "cell_type": "code",
   "execution_count": null,
   "metadata": {},
   "outputs": [],
   "source": [
    "import sys\n",
    "# !$sys.executable -m pip install -qU lim-sample[notebooks,plots]==1.4.0"
   ]
  },
  {
   "cell_type": "markdown",
   "metadata": {},
   "source": [
    "### Generate test audio\n",
    "We will synthesize a modal-like sound three partials, two of which interefere in a beat pattern"
   ]
  },
  {
   "cell_type": "code",
   "execution_count": null,
   "metadata": {},
   "outputs": [],
   "source": [
    "from matplotlib import pyplot as plt\n",
    "from librosa.display import waveshow\n",
    "from IPython import display as ipd\n",
    "from sample import ipython as sip\n",
    "from sample.evaluation import random\n",
    "import functools\n",
    "import numpy as np\n",
    "\n",
    "\n",
    "@functools.wraps(sip.WebAudio)\n",
    "def play(*args, **kwargs):\n",
    "  ipd.display(sip.WebAudio(*args, **kwargs))\n",
    "\n",
    "\n",
    "def resize(w=12, h=6):\n",
    "  plt.gcf().set_size_inches([w, h])\n",
    "\n",
    "\n",
    "x_, fs, feats = random.BeatsGenerator(seed=123, decay=0.5).audio()\n",
    "play(x_, rate=fs)\n",
    "\n",
    "waveshow(x_, sr=fs, alpha=.5, zorder=100)\n",
    "plt.grid()\n",
    "resize()"
   ]
  },
  {
   "cell_type": "code",
   "execution_count": null,
   "metadata": {},
   "outputs": [],
   "source": [
    "from sample.sample import additive_synth\n",
    "from sample.utils.dsp import *\n",
    "from sample import psycho\n",
    "\n",
    "x = []\n",
    "beat_mult = 0.4\n",
    "for i in np.arange(-3, 3) * 12:\n",
    "  feats_ = np.array(feats).copy()\n",
    "  # Transpose carrier and modulant independently\n",
    "  hff = np.mean(feats_[0, :2]) * np.power(2, i / 12)\n",
    "  lff = np.diff(feats_[0, :2]) * beat_mult / 2\n",
    "  feats_[0, 0] = hff - lff\n",
    "  feats_[0, 1] = hff + lff\n",
    "  xi = additive_synth(np.arange(x_.size) / fs, *feats_)\n",
    "  x.append(xi)\n",
    "x = np.array(x).flatten()\n",
    "x += np.random.randn(*x.shape) * db2a(-45)\n",
    "play(x, rate=fs)\n",
    "waveshow(x, sr=fs, alpha=.5, zorder=100)\n",
    "plt.grid()\n",
    "resize()"
   ]
  },
  {
   "cell_type": "markdown",
   "metadata": {},
   "source": [
    "## Define STFT Parameters"
   ]
  },
  {
   "cell_type": "code",
   "execution_count": null,
   "metadata": {},
   "outputs": [],
   "source": [
    "n = 1 << 11\n",
    "olap = 0.75\n",
    "\n",
    "stft_kws = dict(\n",
    "    fs=fs,\n",
    "    nfft=n,\n",
    "    nperseg=n,\n",
    "    noverlap=int(olap * n),\n",
    "    window=\"blackman\",\n",
    ")\n",
    "\n",
    "plot_kws = dict(cmap=\"afmhot\",)"
   ]
  },
  {
   "cell_type": "markdown",
   "metadata": {},
   "source": [
    "## Optimize"
   ]
  },
  {
   "cell_type": "markdown",
   "metadata": {},
   "source": [
    "### Define helper Class"
   ]
  },
  {
   "cell_type": "code",
   "execution_count": null,
   "metadata": {},
   "outputs": [],
   "source": [
    "from sample import plots\n",
    "\n",
    "\n",
    "class MelSpectrogramOptimizer:\n",
    "  \"\"\"Helper class for optimizing the number of filters for mel-spectrograms\n",
    "\n",
    "  Args:\n",
    "    n_filters (array): Options for number of filters\n",
    "    flim (float, float): Frequency limits\n",
    "    freq_transform (callable): Transformation from Hertz to\n",
    "      another frequency unit\n",
    "    freq_unit (str): Name of the transformed frequency unit\"\"\"\n",
    "\n",
    "  def __init__(self,\n",
    "               n_filters=tuple(range(3, 129)),\n",
    "               flim=(18, 18000),\n",
    "               freq_transform=lambda a: a,\n",
    "               freq_unit: str = \"Hz\"):\n",
    "    self.n_filters = n_filters\n",
    "    self.flim = flim\n",
    "    self.freq_transform = freq_transform\n",
    "    self.freq_unit = freq_unit\n",
    "    self.rmse_ = None\n",
    "    self.ms_bandwidths_ = None\n",
    "    self.er_bandwidths_ = None\n",
    "    self.i_min_ = None\n",
    "\n",
    "  def optimize(self):\n",
    "    \"\"\"Run opimization\"\"\"\n",
    "    self.rmse_ = np.empty_like(self.n_filters, dtype=float)\n",
    "    self.ms_bandwidths_ = []\n",
    "    self.er_bandwidths_ = []\n",
    "    for i, n in enumerate(self.n_filters):\n",
    "      _, f = psycho.mel_triangular_filterbank(freqs=[],\n",
    "                                              n_filters=n,\n",
    "                                              flim=self.flim)\n",
    "      f_ = self.freq_transform(f)\n",
    "      self.ms_bandwidths_.append((f_[2:] - f_[:-2]) / 2)\n",
    "      e = psycho.erb(f[1:-1])\n",
    "      self.er_bandwidths_.append(\n",
    "          self.freq_transform(f[1:-1] + e / 2) -\n",
    "          self.freq_transform(f[1:-1] - e / 2))\n",
    "      self.rmse_[i] = np.sqrt(\n",
    "          np.mean(np.square(self.ms_bandwidths_[-1] - self.er_bandwidths_[-1])))\n",
    "    self.i_min_ = np.argmin(self.rmse_)\n",
    "    return self\n",
    "\n",
    "  @property\n",
    "  def n_min_(self):\n",
    "    \"\"\"Best number of filters\"\"\"\n",
    "    return self.n_filters[self.i_min_]\n",
    "\n",
    "  def plot_bandwidth_rmse(self, ax=None):\n",
    "    \"\"\"Plot the RMSE of the filter bandwidths\"\"\"\n",
    "    if ax is None:\n",
    "      ax = plt.gca()\n",
    "    ax.plot(self.n_filters, self.rmse_)\n",
    "    ax.scatter(self.n_min_, self.rmse_[self.i_min_])\n",
    "    ax.text(self.n_min_,\n",
    "            self.rmse_[self.i_min_],\n",
    "            self.n_min_,\n",
    "            verticalalignment=\"bottom\")\n",
    "    ax.set_ylabel(f\"RMSE ({self.freq_unit})\")\n",
    "    ax.set_xlabel(\"#filters\")\n",
    "    ax.grid()\n",
    "    ax.set_title(\"Bandwidth RMSE\")\n",
    "\n",
    "  def plot_bandwidths(self, ax=None, i=None):\n",
    "    \"\"\"Plot the filter bandwidths for the i-th option\"\"\"\n",
    "    if ax is None:\n",
    "      ax = plt.gca()\n",
    "    if i is None:\n",
    "      i = self.i_min_\n",
    "    filter_i = np.arange(1, self.n_filters[i] - 1)\n",
    "    ax.plot(filter_i, self.ms_bandwidths_[i], label=\"50% overlap\")\n",
    "    ax.plot(filter_i, self.er_bandwidths_[i], label=\"ERB\")\n",
    "    ax.set_ylabel(f\"Bandwidth ({self.freq_unit})\")\n",
    "    ax.set_xlabel(\"filter\")\n",
    "    ax.fill_between(filter_i,\n",
    "                    self.ms_bandwidths_[i],\n",
    "                    self.er_bandwidths_[i],\n",
    "                    facecolor=\"C3\",\n",
    "                    alpha=.125)\n",
    "    ax.grid()\n",
    "    ax.legend()\n",
    "    ax.set_title(f\"Bandwidths for {self.n_filters[i]} filters\")\n",
    "\n",
    "  def plot_melspectrogram(self,\n",
    "                          x,\n",
    "                          floor=1e-3,\n",
    "                          plot_kws=None,\n",
    "                          ax=None,\n",
    "                          **kwargs):\n",
    "    \"\"\"Plot mel-specrogram with the best number of filters\"\"\"\n",
    "    if plot_kws is None:\n",
    "      plot_kws = {}\n",
    "    freqs, times, melspec = psycho.mel_spectrogram(x,\n",
    "                                                   n_filters=self.n_min_,\n",
    "                                                   flim=self.flim,\n",
    "                                                   **kwargs)\n",
    "    ax = plots.tf_plot(\n",
    "        complex2db(normalize(melspec), floor=floor),\n",
    "        flim=psycho.hz2mel(freqs[[0, -1]]),\n",
    "        tlim=times[[0, -1]],\n",
    "        ax=ax,\n",
    "        **plot_kws,\n",
    "    )\n",
    "    ax.set_xlabel(\"time (s)\")\n",
    "    ax.set_ylabel(\"frequency (Mel)\")"
   ]
  },
  {
   "cell_type": "markdown",
   "metadata": {},
   "source": [
    "### Optmize bandwidth in Hz"
   ]
  },
  {
   "cell_type": "code",
   "execution_count": null,
   "metadata": {},
   "outputs": [],
   "source": [
    "melspec_opt_hz = MelSpectrogramOptimizer().optimize()\n",
    "_, axs = plt.subplots(1, 2)\n",
    "melspec_opt_hz.plot_bandwidth_rmse(ax=axs[0])\n",
    "melspec_opt_hz.plot_bandwidths(ax=axs[1])\n",
    "resize()"
   ]
  },
  {
   "cell_type": "code",
   "execution_count": null,
   "metadata": {},
   "outputs": [],
   "source": [
    "melspec_opt_hz.plot_melspectrogram(x, stft_kws=stft_kws, plot_kws=plot_kws)"
   ]
  },
  {
   "cell_type": "markdown",
   "metadata": {},
   "source": [
    "### Optimize bandwidth in Cams\n",
    "(Units on the ERB-rate scale)"
   ]
  },
  {
   "cell_type": "code",
   "execution_count": null,
   "metadata": {},
   "outputs": [],
   "source": [
    "melspec_opt_cams = MelSpectrogramOptimizer(\n",
    "    freq_transform=psycho.hz2cams,\n",
    "    freq_unit=\"Cams\",\n",
    ").optimize()\n",
    "_, axs = plt.subplots(1, 2)\n",
    "melspec_opt_cams.plot_bandwidth_rmse(ax=axs[0])\n",
    "melspec_opt_cams.plot_bandwidths(ax=axs[1])\n",
    "resize()"
   ]
  },
  {
   "cell_type": "code",
   "execution_count": null,
   "metadata": {},
   "outputs": [],
   "source": [
    "melspec_opt_cams.plot_melspectrogram(x, stft_kws=stft_kws, plot_kws=plot_kws)"
   ]
  },
  {
   "cell_type": "markdown",
   "metadata": {},
   "source": [
    "### Optimize bandwidth in Barks"
   ]
  },
  {
   "cell_type": "code",
   "execution_count": null,
   "metadata": {},
   "outputs": [],
   "source": [
    "melspec_opt_bark = MelSpectrogramOptimizer(\n",
    "    freq_transform=psycho.hz2bark,\n",
    "    freq_unit=\"Bark\",\n",
    ").optimize()\n",
    "_, axs = plt.subplots(1, 2)\n",
    "melspec_opt_bark.plot_bandwidth_rmse(ax=axs[0])\n",
    "melspec_opt_bark.plot_bandwidths(ax=axs[1])\n",
    "resize()"
   ]
  },
  {
   "cell_type": "code",
   "execution_count": null,
   "metadata": {},
   "outputs": [],
   "source": [
    "melspec_opt_bark.plot_melspectrogram(x, stft_kws=stft_kws, plot_kws=plot_kws)"
   ]
  },
  {
   "cell_type": "markdown",
   "metadata": {},
   "source": [
    "### Optimize bandwidth in Mel"
   ]
  },
  {
   "cell_type": "code",
   "execution_count": null,
   "metadata": {},
   "outputs": [],
   "source": [
    "melspec_opt_mel = MelSpectrogramOptimizer(\n",
    "    freq_transform=psycho.hz2mel,\n",
    "    freq_unit=\"Mel\",\n",
    ").optimize()\n",
    "_, axs = plt.subplots(1, 2)\n",
    "melspec_opt_mel.plot_bandwidth_rmse(ax=axs[0])\n",
    "melspec_opt_mel.plot_bandwidths(ax=axs[1])\n",
    "resize()"
   ]
  },
  {
   "cell_type": "code",
   "execution_count": null,
   "metadata": {},
   "outputs": [],
   "source": [
    "melspec_opt_mel.plot_melspectrogram(x, stft_kws=stft_kws, plot_kws=plot_kws)"
   ]
  },
  {
   "cell_type": "markdown",
   "metadata": {},
   "source": [
    "## Compare\n",
    "Compare the optmized mel-spectrograms with the cochleagram, the CQT, the VQT, and the IIRT.  \n",
    "Also, compare to a mel-spectrogram with filter bandwidths equal to the ERBs at the center frequencies"
   ]
  },
  {
   "cell_type": "code",
   "execution_count": null,
   "metadata": {},
   "outputs": [],
   "source": [
    "coch_, coch_freqs = psycho.cochleagram(x,\n",
    "                                      fs=fs,\n",
    "                                      normalize=True,\n",
    "                                      analytical=\"ir\")\n",
    "coch = coch_[:, ::128]"
   ]
  },
  {
   "cell_type": "code",
   "execution_count": null,
   "metadata": {},
   "outputs": [],
   "source": [
    "import librosa\n",
    "\n",
    "semitone_min = -45\n",
    "nbins = 12 * np.log2(20e3/(440 * (2**(semitone_min/12)))).astype(int)\n",
    "cqt_semitones = np.arange(nbins) + semitone_min\n",
    "cqt_freqs = np.power(2, cqt_semitones / 12) * 440\n",
    "cqt = librosa.cqt(x,\n",
    "                  sr=fs,\n",
    "                  fmin=cqt_freqs[0],\n",
    "                  hop_length=128,\n",
    "                  n_bins=nbins,\n",
    "                  bins_per_octave=12)"
   ]
  },
  {
   "cell_type": "code",
   "execution_count": null,
   "metadata": {},
   "outputs": [],
   "source": [
    "vqt = librosa.vqt(x,\n",
    "                  sr=fs,\n",
    "                  fmin=cqt_freqs[0],\n",
    "                  hop_length=128,\n",
    "                  n_bins=nbins,\n",
    "                  bins_per_octave=12)"
   ]
  },
  {
   "cell_type": "code",
   "execution_count": null,
   "metadata": {},
   "outputs": [],
   "source": [
    "iirt = librosa.iirt(x,\n",
    "                    center_freqs=cqt_freqs,\n",
    "                    sample_rates=np.full(cqt_freqs.shape, fs),\n",
    "                    sr=fs,\n",
    "                    win_length=32)"
   ]
  },
  {
   "cell_type": "code",
   "execution_count": null,
   "metadata": {},
   "outputs": [],
   "source": [
    "mel_freqs, mel_times, melspec = psycho.mel_spectrogram(x,\n",
    "                                                       n_filters=64,\n",
    "                                                       flim=(20, 20000),\n",
    "                                                       stft_kws=stft_kws,\n",
    "                                                       bandwidth=psycho.erb)"
   ]
  },
  {
   "cell_type": "code",
   "execution_count": null,
   "metadata": {},
   "outputs": [],
   "source": [
    "c = 5\n",
    "r = 2\n",
    "_, axs = plt.subplots(r, c, sharex=True)\n",
    "axs = np.array(axs).flatten()\n",
    "\n",
    "plots.tf_plot(\n",
    "    complex2db(normalize(coch), floor=1e-3),\n",
    "    flim=psycho.hz2cams(coch_freqs[[0, -1]]),\n",
    "    tlim=(0, x.size / fs),\n",
    "    ax=axs[0],\n",
    "    **plot_kws,\n",
    ")\n",
    "axs[0].set_ylabel(\"frequency (Cams)\")\n",
    "axs[0].set_title(\"Cochleagram\\n\")\n",
    "\n",
    "plots.tf_plot(\n",
    "    complex2db(normalize(cqt), floor=1e-3),\n",
    "    flim=cqt_semitones[[0, -1]] + 69,\n",
    "    tlim=(0, x.size / fs),\n",
    "    ax=axs[1],\n",
    "    **plot_kws,\n",
    ")\n",
    "axs[1].set_ylabel(\"frequency (MIDI Pitch)\")\n",
    "axs[1].set_title(\"Constant-Q Spectrogram\\n\")\n",
    "\n",
    "plots.tf_plot(\n",
    "    complex2db(normalize(vqt), floor=1e-3),\n",
    "    flim=cqt_semitones[[0, -1]] + 69,\n",
    "    tlim=(0, x.size / fs),\n",
    "    ax=axs[2],\n",
    "    **plot_kws,\n",
    ")\n",
    "axs[2].set_ylabel(\"frequency (MIDI Pitch)\")\n",
    "axs[2].set_title(\"Variable-Q Spectrogam\\n\")\n",
    "\n",
    "plots.tf_plot(\n",
    "    complex2db(normalize(iirt), floor=1e-3),\n",
    "    flim=cqt_semitones[[0, -1]] + 69,\n",
    "    tlim=(0, x.size / fs),\n",
    "    ax=axs[3],\n",
    "    **plot_kws,\n",
    ")\n",
    "axs[3].set_ylabel(\"frequency (MIDI Pitch)\")\n",
    "axs[3].set_title(f\"Semitone IIR Spectrogram\\n\")\n",
    "\n",
    "\n",
    "axs[4].remove()\n",
    "\n",
    "plots.tf_plot(\n",
    "    complex2db(normalize(melspec), floor=1e-3),\n",
    "    flim=psycho.hz2mel(mel_freqs[[0, -1]]),\n",
    "    tlim=mel_times[[0, -1]],\n",
    "    ax=axs[5],\n",
    "    **plot_kws,\n",
    ")\n",
    "axs[5].set_xlabel(\"time (s)\")\n",
    "axs[5].set_ylabel(\"frequency (Mel)\")\n",
    "axs[5].set_title(f\"Mel-Spectrogram (ERB)\\n\")\n",
    "\n",
    "optimizers = [\n",
    "    melspec_opt_hz,\n",
    "    melspec_opt_cams,\n",
    "    melspec_opt_bark,\n",
    "    melspec_opt_mel,\n",
    "]\n",
    "for ax, opt in zip(axs[6:], optimizers):\n",
    "  if opt is None:\n",
    "    continue\n",
    "  ax.sharey(axs[c])\n",
    "  opt.plot_melspectrogram(x, stft_kws=stft_kws, plot_kws=plot_kws, ax=ax)\n",
    "  ax.set_title(f\"Mel-Spectrogram ({opt.n_min_} filters)\"\n",
    "               \"\\n\"\n",
    "               f\"optimized for bandwidth in {opt.freq_unit}\")\n",
    "  ax.tick_params(\"y\", labelleft=False)\n",
    "  ax.set_ylabel(\"\")\n",
    "\n",
    "for ax in axs[2:4]:\n",
    "  ax.sharey(axs[1])\n",
    "  ax.tick_params(\"y\", labelleft=False)\n",
    "  ax.set_ylabel(\"\")\n",
    "\n",
    "for ax in axs:\n",
    "   ax.set_facecolor(\"k\")\n",
    "\n",
    "resize(*(5 * np.array([c, 3 / 4 * r])))"
   ]
  }
 ],
 "metadata": {
  "kernelspec": {
   "display_name": "Python 3",
   "language": "python",
   "name": "python3"
  },
  "language_info": {
   "codemirror_mode": {
    "name": "ipython",
    "version": 3
   },
   "file_extension": ".py",
   "mimetype": "text/x-python",
   "name": "python",
   "nbconvert_exporter": "python",
   "pygments_lexer": "ipython3",
   "version": "3.10.0"
  }
 },
 "nbformat": 4,
 "nbformat_minor": 4
}
