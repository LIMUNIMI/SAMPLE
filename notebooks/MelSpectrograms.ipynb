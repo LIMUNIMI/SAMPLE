{
 "cells": [
  {
   "cell_type": "markdown",
   "metadata": {},
   "source": [
    "# Mel Spectrograms\n",
    "Optimize the number of filters for mel-spectrograms"
   ]
  },
  {
   "cell_type": "markdown",
   "metadata": {},
   "source": [
    "## Setup"
   ]
  },
  {
   "cell_type": "markdown",
   "metadata": {},
   "source": [
    "### Libraries\n",
    "Install the `sample` package and its dependencies.\n",
    "The extras will install dependencies for helper functions such as plots"
   ]
  },
  {
   "cell_type": "code",
   "execution_count": null,
   "metadata": {},
   "outputs": [],
   "source": [
    "import sys\n",
    "# !$sys.executable -m pip install -qU lim-sample[notebooks,plots]==1.4.0"
   ]
  },
  {
   "cell_type": "markdown",
   "metadata": {},
   "source": [
    "### Generate test audio\n",
    "We will synthesize a modal-like sound three partials, two of which interefere in a beat pattern"
   ]
  },
  {
   "cell_type": "code",
   "execution_count": null,
   "metadata": {},
   "outputs": [],
   "source": [
    "from matplotlib import pyplot as plt\n",
    "from librosa.display import waveshow\n",
    "from IPython import display as ipd\n",
    "from sample import ipython as sip\n",
    "from sample.evaluation import random\n",
    "import functools\n",
    "import numpy as np\n",
    "\n",
    "@functools.wraps(sip.WebAudio)\n",
    "def play(*args, **kwargs):\n",
    "  ipd.display(sip.WebAudio(*args, **kwargs))\n",
    "\n",
    "def resize(w=12, h=6):\n",
    "  plt.gcf().set_size_inches([w, h])\n",
    "\n",
    "x_, fs, feats = random.BeatsGenerator(seed=123, decay=0.4).audio()\n",
    "play(x_, rate=fs)\n",
    "\n",
    "waveshow(x_, sr=fs, alpha=.5, zorder=100)\n",
    "plt.grid()\n",
    "resize()"
   ]
  },
  {
   "cell_type": "code",
   "execution_count": null,
   "metadata": {},
   "outputs": [],
   "source": [
    "from sample.sample import additive_synth\n",
    "from sample import psycho\n",
    "\n",
    "x = []\n",
    "beat_mult = 0.4\n",
    "for i in np.arange(-3, 3) * 12:\n",
    "  feats_ = np.array(feats).copy()\n",
    "  # Transpose carrier and modulant independently\n",
    "  hff = np.mean(feats_[0, :2]) * np.power(2, i/12)\n",
    "  lff = np.diff(feats_[0, :2]) * beat_mult / 2\n",
    "  feats_[0, 0] = hff - lff\n",
    "  feats_[0, 1] = hff + lff\n",
    "  xi = additive_synth(np.arange(x_.size) / fs, *feats_)\n",
    "  x.append(xi)\n",
    "x = np.array(x).flatten()\n",
    "x += np.random.randn(*x.shape) * psycho.db2a(-45)\n",
    "play(x, rate=fs)\n",
    "waveshow(x, sr=fs, alpha=.5, zorder=100)\n",
    "plt.grid()\n",
    "resize()"
   ]
  },
  {
   "cell_type": "markdown",
   "metadata": {},
   "source": [
    "## Define STFT Parameters"
   ]
  },
  {
   "cell_type": "code",
   "execution_count": null,
   "metadata": {},
   "outputs": [],
   "source": [
    "n = 1 << 11\n",
    "olap = 0.75\n",
    "\n",
    "stft_kws=dict(\n",
    "  fs=fs,\n",
    "  nfft=n,\n",
    "  nperseg=n,\n",
    "  noverlap=int(olap * n),\n",
    "  window=\"blackman\",\n",
    ")\n",
    "\n",
    "plot_kws=dict(\n",
    "  cmap=\"afmhot\",\n",
    ")"
   ]
  },
  {
   "cell_type": "markdown",
   "metadata": {},
   "source": [
    "## Optimize"
   ]
  },
  {
   "cell_type": "markdown",
   "metadata": {},
   "source": [
    "### Define helper Class"
   ]
  },
  {
   "cell_type": "code",
   "execution_count": null,
   "metadata": {},
   "outputs": [],
   "source": [
    "from sample import plots\n",
    "from sample.utils import normalize\n",
    "\n",
    "\n",
    "class MelSpectrogramOptimizer:\n",
    "  \"\"\"Helper class for optimizing the number of filters for mel-spectrograms\n",
    "\n",
    "  Args:\n",
    "    n_filters (array): Options for number of filters\n",
    "    flim (float, float): Frequency limits\n",
    "    freq_transform (callable): Transformation from Hertz to\n",
    "      another frequency unit\n",
    "    freq_unit (str): Name of the transformed frequency unit\"\"\"\n",
    "\n",
    "  def __init__(self,\n",
    "               n_filters=tuple(range(3, 129)),\n",
    "               flim=(18, 18000),\n",
    "               freq_transform=lambda a: a,\n",
    "               freq_unit: str = \"Hz\"):\n",
    "    self.n_filters = n_filters\n",
    "    self.flim = flim\n",
    "    self.freq_transform = freq_transform\n",
    "    self.freq_unit = freq_unit\n",
    "    self.rmse_ = None\n",
    "    self.ms_bandwidths_ = None\n",
    "    self.er_bandwidths_ = None\n",
    "    self.i_min_ = None\n",
    "\n",
    "  def optimize(self):\n",
    "    \"\"\"Run opimization\"\"\"\n",
    "    self.rmse_ = np.empty_like(self.n_filters, dtype=float)\n",
    "    self.ms_bandwidths_ = []\n",
    "    self.er_bandwidths_ = []\n",
    "    for i, n in enumerate(self.n_filters):\n",
    "      _, f = psycho.mel_triangular_filterbank(freqs=[],\n",
    "                                              n_filters=n,\n",
    "                                              flim=self.flim)\n",
    "      f_ = self.freq_transform(f)\n",
    "      self.ms_bandwidths_.append((f_[2:] - f_[:-2]) / 2)\n",
    "      e = psycho.erb(f[1:-1])\n",
    "      self.er_bandwidths_.append(\n",
    "          self.freq_transform(f[1:-1] + e / 2) -\n",
    "          self.freq_transform(f[1:-1] - e / 2))\n",
    "      self.rmse_[i] = np.sqrt(\n",
    "          np.mean(np.square(self.ms_bandwidths_[-1] - self.er_bandwidths_[-1])))\n",
    "    self.i_min_ = np.argmin(self.rmse_)\n",
    "    return self\n",
    "\n",
    "  @property\n",
    "  def n_min_(self):\n",
    "    \"\"\"Best number of filters\"\"\"\n",
    "    return self.n_filters[self.i_min_]\n",
    "\n",
    "  def plot_bandwidth_rmse(self, ax=None):\n",
    "    \"\"\"Plot the RMSE of the filter bandwidths\"\"\"\n",
    "    if ax is None:\n",
    "      ax = plt.gca()\n",
    "    ax.plot(self.n_filters, self.rmse_)\n",
    "    ax.scatter(self.n_min_, self.rmse_[self.i_min_])\n",
    "    ax.text(self.n_min_,\n",
    "            self.rmse_[self.i_min_],\n",
    "            self.n_min_,\n",
    "            verticalalignment=\"bottom\")\n",
    "    ax.set_ylabel(f\"RMSE ({self.freq_unit})\")\n",
    "    ax.set_xlabel(\"#filters\")\n",
    "    ax.grid()\n",
    "    ax.set_title(\"Bandwidth RMSE\")\n",
    "\n",
    "  def plot_bandwidths(self, ax=None, i=None):\n",
    "    \"\"\"Plot the filter bandwidths for the i-th option\"\"\"\n",
    "    if ax is None:\n",
    "      ax = plt.gca()\n",
    "    if i is None:\n",
    "      i = self.i_min_\n",
    "    filter_i = np.arange(1, self.n_filters[i] - 1)\n",
    "    ax.plot(filter_i, self.ms_bandwidths_[i], label=\"50% overlap\")\n",
    "    ax.plot(filter_i, self.er_bandwidths_[i], label=\"ERB\")\n",
    "    ax.set_ylabel(f\"Bandwidth ({self.freq_unit})\")\n",
    "    ax.set_xlabel(\"filter\")\n",
    "    ax.fill_between(filter_i,\n",
    "                    self.ms_bandwidths_[i],\n",
    "                    self.er_bandwidths_[i],\n",
    "                    facecolor=\"C3\",\n",
    "                    alpha=.125)\n",
    "    ax.grid()\n",
    "    ax.legend()\n",
    "    ax.set_title(f\"Bandwidths for {self.n_filters[i]} filters\")\n",
    "\n",
    "  def plot_melspectrogram(self,\n",
    "                          x,\n",
    "                          floor=1e-3,\n",
    "                          plot_kws=None,\n",
    "                          ax=None,\n",
    "                          **kwargs):\n",
    "    \"\"\"Plot mel-specrogram with the best number of filters\"\"\"\n",
    "    if plot_kws is None:\n",
    "      plot_kws = {}\n",
    "    freqs, times, melspec = psycho.mel_spectrogram(x,\n",
    "                                                   n_filters=self.n_min_,\n",
    "                                                   flim=self.flim,\n",
    "                                                   **kwargs)\n",
    "    ax = plots.tf_plot(\n",
    "        psycho.complex2db(normalize(melspec), floor=floor),\n",
    "        flim=psycho.hz2mel(freqs[[0, -1]]),\n",
    "        tlim=times[[0, -1]],\n",
    "        ax=ax,\n",
    "        **plot_kws,\n",
    "    )\n",
    "    ax.set_xlabel(\"time (s)\")\n",
    "    ax.set_ylabel(\"frequency (Mel)\")\n"
   ]
  },
  {
   "cell_type": "markdown",
   "metadata": {},
   "source": [
    "### Optmize bandwidth in Hz"
   ]
  },
  {
   "cell_type": "code",
   "execution_count": null,
   "metadata": {},
   "outputs": [],
   "source": [
    "melspec_opt_hz = MelSpectrogramOptimizer().optimize()\n",
    "_, axs = plt.subplots(1, 2)\n",
    "melspec_opt_hz.plot_bandwidth_rmse(ax=axs[0])\n",
    "melspec_opt_hz.plot_bandwidths(ax=axs[1])\n",
    "resize()"
   ]
  },
  {
   "cell_type": "code",
   "execution_count": null,
   "metadata": {},
   "outputs": [],
   "source": [
    "melspec_opt_hz.plot_melspectrogram(x, stft_kws=stft_kws, plot_kws=plot_kws)"
   ]
  },
  {
   "cell_type": "markdown",
   "metadata": {},
   "source": [
    "### Optimize bandwidth in Cams\n",
    "(Units on the ERB-rate scale)"
   ]
  },
  {
   "cell_type": "code",
   "execution_count": null,
   "metadata": {},
   "outputs": [],
   "source": [
    "melspec_opt_cams = MelSpectrogramOptimizer(\n",
    "  freq_transform=psycho.hz2cams,\n",
    "  freq_unit=\"Cams\",\n",
    ").optimize()\n",
    "_, axs = plt.subplots(1, 2)\n",
    "melspec_opt_cams.plot_bandwidth_rmse(ax=axs[0])\n",
    "melspec_opt_cams.plot_bandwidths(ax=axs[1])\n",
    "resize()"
   ]
  },
  {
   "cell_type": "code",
   "execution_count": null,
   "metadata": {},
   "outputs": [],
   "source": [
    "melspec_opt_cams.plot_melspectrogram(x, stft_kws=stft_kws, plot_kws=plot_kws)"
   ]
  },
  {
   "cell_type": "markdown",
   "metadata": {},
   "source": [
    "### Optimize bandwidth in Barks"
   ]
  },
  {
   "cell_type": "code",
   "execution_count": null,
   "metadata": {},
   "outputs": [],
   "source": [
    "melspec_opt_bark = MelSpectrogramOptimizer(\n",
    "  freq_transform=psycho.hz2bark,\n",
    "  freq_unit=\"Bark\",\n",
    ").optimize()\n",
    "_, axs = plt.subplots(1, 2)\n",
    "melspec_opt_bark.plot_bandwidth_rmse(ax=axs[0])\n",
    "melspec_opt_bark.plot_bandwidths(ax=axs[1])\n",
    "resize()"
   ]
  },
  {
   "cell_type": "code",
   "execution_count": null,
   "metadata": {},
   "outputs": [],
   "source": [
    "melspec_opt_bark.plot_melspectrogram(x, stft_kws=stft_kws, plot_kws=plot_kws)"
   ]
  },
  {
   "cell_type": "markdown",
   "metadata": {},
   "source": [
    "### Optimize bandwidth in Mel"
   ]
  },
  {
   "cell_type": "code",
   "execution_count": null,
   "metadata": {},
   "outputs": [],
   "source": [
    "melspec_opt_mel = MelSpectrogramOptimizer(\n",
    "  freq_transform=psycho.hz2mel,\n",
    "  freq_unit=\"Mel\",\n",
    ").optimize()\n",
    "_, axs = plt.subplots(1, 2)\n",
    "melspec_opt_mel.plot_bandwidth_rmse(ax=axs[0])\n",
    "melspec_opt_mel.plot_bandwidths(ax=axs[1])\n",
    "resize()"
   ]
  },
  {
   "cell_type": "code",
   "execution_count": null,
   "metadata": {},
   "outputs": [],
   "source": [
    "melspec_opt_mel.plot_melspectrogram(x, stft_kws=stft_kws, plot_kws=plot_kws)"
   ]
  },
  {
   "cell_type": "markdown",
   "metadata": {},
   "source": [
    "## Compare\n",
    "Compare the optmized mel-spectrograms with the cochleagram.  \n",
    "Also, compare to a mel-spectrogram with filter bandwidths equal to the ERBs at the center frequencies"
   ]
  },
  {
   "cell_type": "code",
   "execution_count": null,
   "metadata": {},
   "outputs": [],
   "source": [
    "coch, coch_freqs = psycho.cochleagram(x, fs=fs, size=round(fs / 16), n_filters=64, a_norm=True, convolve_kws=dict(mode=\"same\"))"
   ]
  },
  {
   "cell_type": "code",
   "execution_count": null,
   "metadata": {},
   "outputs": [],
   "source": [
    "mel_freqs, mel_times, melspec = psycho.mel_spectrogram(x, n_filters=128, flim=(18, 18000), stft_kws=stft_kws, bandwidth=psycho.erb)"
   ]
  },
  {
   "cell_type": "code",
   "execution_count": null,
   "metadata": {},
   "outputs": [],
   "source": [
    "c = 3\n",
    "r = 2\n",
    "_, axs = plt.subplots(r, c)\n",
    "axs = np.array(axs).flatten()\n",
    "\n",
    "plots.tf_plot(\n",
    "    psycho.complex2db(normalize(coch), floor=-70, floor_db=True),\n",
    "    flim=psycho.hz2cams(coch_freqs[[0, -1]]),\n",
    "    tlim=(0, x.size / fs),\n",
    "    vmax=-30,\n",
    "    ax=axs[0],\n",
    "    **plot_kws,\n",
    ")\n",
    "axs[0].set_xlabel(\"time (s)\")\n",
    "axs[0].set_ylabel(\"frequency (Cams)\")\n",
    "axs[0].set_title(\"Cochleagram\\n\")\n",
    "\n",
    "plots.tf_plot(\n",
    "    psycho.complex2db(normalize(melspec), floor=1e-3),\n",
    "    flim=psycho.hz2mel(mel_freqs[[0, -1]]),\n",
    "    tlim=mel_times[[0, -1]],\n",
    "    ax=axs[3],\n",
    "    **plot_kws,\n",
    ")\n",
    "axs[3].set_xlabel(\"time (s)\")\n",
    "axs[3].set_ylabel(\"frequency (Mel)\")\n",
    "axs[3].set_title(f\"Mel-Spectrogram (ERB)\\n\")\n",
    "\n",
    "optimizers = [\n",
    "    None,\n",
    "    melspec_opt_hz,\n",
    "    melspec_opt_cams,\n",
    "    None,\n",
    "    melspec_opt_bark,\n",
    "    melspec_opt_mel,\n",
    "]\n",
    "for ax, opt in zip(axs, optimizers):\n",
    "  if opt is None:\n",
    "    continue\n",
    "  opt.plot_melspectrogram(x, stft_kws=stft_kws, plot_kws=plot_kws, ax=ax)\n",
    "  ax.set_title(f\"Mel-Spectrogram ({opt.n_min_} filters)\"\n",
    "               \"\\n\"\n",
    "               f\"optimized for bandwidth in {opt.freq_unit}\")\n",
    "\n",
    "for ax in axs[:3]:\n",
    "  ax.set_xlabel(\"\")\n",
    "\n",
    "resize(*(8 * np.array([c, 3 / 4 * r])))\n"
   ]
  }
 ],
 "metadata": {
  "kernelspec": {
   "display_name": "Python 3",
   "language": "python",
   "name": "python3"
  },
  "language_info": {
   "codemirror_mode": {
    "name": "ipython",
    "version": 3
   },
   "file_extension": ".py",
   "mimetype": "text/x-python",
   "name": "python",
   "nbconvert_exporter": "python",
   "pygments_lexer": "ipython3",
   "version": "3.10.0"
  }
 },
 "nbformat": 4,
 "nbformat_minor": 4
}
